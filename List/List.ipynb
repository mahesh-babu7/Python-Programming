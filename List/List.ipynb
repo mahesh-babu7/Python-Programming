{
 "cells": [
  {
   "cell_type": "markdown",
   "id": "520a2b23-0f19-444f-8455-6b16c92cdfd1",
   "metadata": {},
   "source": [
    "List"
   ]
  },
  {
   "cell_type": "code",
   "execution_count": 1,
   "id": "0ef6059c-6764-4ba7-a3d8-4fa50776f72b",
   "metadata": {},
   "outputs": [
    {
     "data": {
      "text/plain": [
       "[]"
      ]
     },
     "execution_count": 1,
     "metadata": {},
     "output_type": "execute_result"
    }
   ],
   "source": [
    "l = []\n",
    "l"
   ]
  },
  {
   "cell_type": "code",
   "execution_count": 2,
   "id": "fe166aa6-ec9e-4cc8-8e1b-1d4d518a3a14",
   "metadata": {},
   "outputs": [
    {
     "data": {
      "text/plain": [
       "list"
      ]
     },
     "execution_count": 2,
     "metadata": {},
     "output_type": "execute_result"
    }
   ],
   "source": [
    "type(l)"
   ]
  },
  {
   "cell_type": "code",
   "execution_count": 3,
   "id": "cd6576d9-914c-4df6-8e92-98aa2ccbb329",
   "metadata": {},
   "outputs": [
    {
     "data": {
      "text/plain": [
       "[10]"
      ]
     },
     "execution_count": 3,
     "metadata": {},
     "output_type": "execute_result"
    }
   ],
   "source": [
    "l.append(10)\n",
    "l"
   ]
  },
  {
   "cell_type": "code",
   "execution_count": 4,
   "id": "0f3766a2-63d0-487f-921d-703cbcc50fd1",
   "metadata": {},
   "outputs": [
    {
     "data": {
      "text/plain": [
       "1"
      ]
     },
     "execution_count": 4,
     "metadata": {},
     "output_type": "execute_result"
    }
   ],
   "source": [
    "len(l)"
   ]
  },
  {
   "cell_type": "code",
   "execution_count": 5,
   "id": "24f5ec6e-0318-4482-9f77-d2b110907101",
   "metadata": {},
   "outputs": [],
   "source": [
    "l.append(20)\n",
    "l.append(30)\n",
    "l.append(40)\n",
    "l.append(50)"
   ]
  },
  {
   "cell_type": "code",
   "execution_count": 6,
   "id": "760c8f59-ad42-41fb-9a2a-a27478f2841c",
   "metadata": {},
   "outputs": [
    {
     "data": {
      "text/plain": [
       "[10, 20, 30, 40, 50]"
      ]
     },
     "execution_count": 6,
     "metadata": {},
     "output_type": "execute_result"
    }
   ],
   "source": [
    "l"
   ]
  },
  {
   "cell_type": "code",
   "execution_count": 7,
   "id": "d8e0ffb1-bcd3-45aa-a7d6-90135727c1b6",
   "metadata": {},
   "outputs": [
    {
     "data": {
      "text/plain": [
       "5"
      ]
     },
     "execution_count": 7,
     "metadata": {},
     "output_type": "execute_result"
    }
   ],
   "source": [
    "len(l)"
   ]
  },
  {
   "cell_type": "code",
   "execution_count": 8,
   "id": "00d08779-7292-4648-99cd-4790857d793b",
   "metadata": {},
   "outputs": [
    {
     "data": {
      "text/plain": [
       "list"
      ]
     },
     "execution_count": 8,
     "metadata": {},
     "output_type": "execute_result"
    }
   ],
   "source": [
    "type(l)"
   ]
  },
  {
   "cell_type": "code",
   "execution_count": 9,
   "id": "d413fc75-1b8a-4749-bdc5-b2419ed5b7a9",
   "metadata": {},
   "outputs": [
    {
     "data": {
      "text/plain": [
       "2250633650560"
      ]
     },
     "execution_count": 9,
     "metadata": {},
     "output_type": "execute_result"
    }
   ],
   "source": [
    "id(l)"
   ]
  },
  {
   "cell_type": "code",
   "execution_count": 10,
   "id": "dbfcfad4-d9f6-4719-b5af-8acc7012a3b3",
   "metadata": {},
   "outputs": [
    {
     "data": {
      "text/plain": [
       "[10, 20, 30, 40, 50]"
      ]
     },
     "execution_count": 10,
     "metadata": {},
     "output_type": "execute_result"
    }
   ],
   "source": [
    "l"
   ]
  },
  {
   "cell_type": "code",
   "execution_count": 11,
   "id": "fe4e8c3f-b1d8-4423-b905-a50de47ea331",
   "metadata": {},
   "outputs": [
    {
     "data": {
      "text/plain": [
       "[10, 20, 30, 40, 50]"
      ]
     },
     "execution_count": 11,
     "metadata": {},
     "output_type": "execute_result"
    }
   ],
   "source": [
    "l[:]"
   ]
  },
  {
   "cell_type": "code",
   "execution_count": 12,
   "id": "f836e59f-70de-416f-bfed-36a1e2fb5baf",
   "metadata": {},
   "outputs": [
    {
     "data": {
      "text/plain": [
       "10"
      ]
     },
     "execution_count": 12,
     "metadata": {},
     "output_type": "execute_result"
    }
   ],
   "source": [
    "l[0]"
   ]
  },
  {
   "cell_type": "code",
   "execution_count": 13,
   "id": "ab97dfd1-9cc5-422a-b3ce-dc7377623f9c",
   "metadata": {},
   "outputs": [
    {
     "data": {
      "text/plain": [
       "50"
      ]
     },
     "execution_count": 13,
     "metadata": {},
     "output_type": "execute_result"
    }
   ],
   "source": [
    "l[-1]"
   ]
  },
  {
   "cell_type": "code",
   "execution_count": 14,
   "id": "85e717c1-ced9-4d24-a428-b1694ea26aec",
   "metadata": {},
   "outputs": [
    {
     "data": {
      "text/plain": [
       "[10, 20, 30, 40, 50]"
      ]
     },
     "execution_count": 14,
     "metadata": {},
     "output_type": "execute_result"
    }
   ],
   "source": [
    "l1 = l.copy()\n",
    "l1"
   ]
  },
  {
   "cell_type": "code",
   "execution_count": 15,
   "id": "cce10006-03d3-40fc-b5d9-9eb0b2ce0cb6",
   "metadata": {},
   "outputs": [
    {
     "data": {
      "text/plain": [
       "True"
      ]
     },
     "execution_count": 15,
     "metadata": {},
     "output_type": "execute_result"
    }
   ],
   "source": [
    "l1 == l"
   ]
  },
  {
   "cell_type": "code",
   "execution_count": 16,
   "id": "c15268de-321d-49ba-a372-dcd6eb142454",
   "metadata": {},
   "outputs": [
    {
     "data": {
      "text/plain": [
       "5"
      ]
     },
     "execution_count": 16,
     "metadata": {},
     "output_type": "execute_result"
    }
   ],
   "source": [
    "len(l1)\n",
    "len(l)"
   ]
  },
  {
   "cell_type": "code",
   "execution_count": 17,
   "id": "6945cd6b-18b6-41e2-865b-753896382ec0",
   "metadata": {},
   "outputs": [
    {
     "data": {
      "text/plain": [
       "[10, 20, 30, 40, 50]"
      ]
     },
     "execution_count": 17,
     "metadata": {},
     "output_type": "execute_result"
    }
   ],
   "source": [
    "l1"
   ]
  },
  {
   "cell_type": "code",
   "execution_count": 18,
   "id": "cf827e38-03b1-412c-94a6-cebd6633b492",
   "metadata": {},
   "outputs": [
    {
     "data": {
      "text/plain": [
       "[10, 20, 30, 40, 50, 5.5, True, (2+6j)]"
      ]
     },
     "execution_count": 18,
     "metadata": {},
     "output_type": "execute_result"
    }
   ],
   "source": [
    "l1.append(5.5)\n",
    "l1.append(True)\n",
    "l1.append(2+6j)\n",
    "l1"
   ]
  },
  {
   "cell_type": "code",
   "execution_count": 19,
   "id": "86b62d4f-c6cb-4c20-98db-38acb54bd14a",
   "metadata": {},
   "outputs": [
    {
     "data": {
      "text/plain": [
       "[10, 20, 30, 40, 50]"
      ]
     },
     "execution_count": 19,
     "metadata": {},
     "output_type": "execute_result"
    }
   ],
   "source": [
    "l"
   ]
  },
  {
   "cell_type": "code",
   "execution_count": 20,
   "id": "b14f5762-d9cd-4de5-afd0-bb397dddb0db",
   "metadata": {},
   "outputs": [
    {
     "data": {
      "text/plain": [
       "[10, 20, 30, 40, 50, 5.5, True, (2+6j)]"
      ]
     },
     "execution_count": 20,
     "metadata": {},
     "output_type": "execute_result"
    }
   ],
   "source": [
    "l1"
   ]
  },
  {
   "cell_type": "code",
   "execution_count": 21,
   "id": "3780bdb6-0dca-46ad-8fd6-af670954479e",
   "metadata": {},
   "outputs": [
    {
     "data": {
      "text/plain": [
       "1"
      ]
     },
     "execution_count": 21,
     "metadata": {},
     "output_type": "execute_result"
    }
   ],
   "source": [
    "l1.count(20)"
   ]
  },
  {
   "cell_type": "code",
   "execution_count": 22,
   "id": "10d759b6-49ab-434c-9e5a-6a35f20fc72e",
   "metadata": {},
   "outputs": [
    {
     "data": {
      "text/plain": [
       "1"
      ]
     },
     "execution_count": 22,
     "metadata": {},
     "output_type": "execute_result"
    }
   ],
   "source": [
    "l1.count(50)"
   ]
  },
  {
   "cell_type": "code",
   "execution_count": 23,
   "id": "20c175e9-3e2c-4f65-b426-a01ca727f512",
   "metadata": {},
   "outputs": [
    {
     "data": {
      "text/plain": [
       "[10, 20, 30, 40, 50, 5.5, True, (2+6j)]"
      ]
     },
     "execution_count": 23,
     "metadata": {},
     "output_type": "execute_result"
    }
   ],
   "source": [
    "l2 = l1.copy()\n",
    "l2"
   ]
  },
  {
   "cell_type": "code",
   "execution_count": 24,
   "id": "16f79c54-60ec-4024-9824-08b153c75c45",
   "metadata": {},
   "outputs": [],
   "source": [
    "l2.remove(20)"
   ]
  },
  {
   "cell_type": "code",
   "execution_count": 34,
   "id": "202ab44f-8568-4384-b6d1-3f37ed240e84",
   "metadata": {},
   "outputs": [
    {
     "data": {
      "text/plain": [
       "[10, 30, 40, 50, 5.5, True, (2+6j)]"
      ]
     },
     "execution_count": 34,
     "metadata": {},
     "output_type": "execute_result"
    }
   ],
   "source": [
    "l2"
   ]
  },
  {
   "cell_type": "code",
   "execution_count": 35,
   "id": "63bfadb1-74ef-4497-93ac-50671f3f391e",
   "metadata": {},
   "outputs": [],
   "source": [
    "l2.clear()"
   ]
  },
  {
   "cell_type": "code",
   "execution_count": 36,
   "id": "4d95faa9-8b59-497d-9829-d16772b3afe7",
   "metadata": {},
   "outputs": [
    {
     "data": {
      "text/plain": [
       "[]"
      ]
     },
     "execution_count": 36,
     "metadata": {},
     "output_type": "execute_result"
    }
   ],
   "source": [
    "l2"
   ]
  },
  {
   "cell_type": "code",
   "execution_count": 37,
   "id": "4cc39f6e-554f-4139-8222-bcca8147466a",
   "metadata": {},
   "outputs": [],
   "source": [
    "del l2"
   ]
  },
  {
   "cell_type": "code",
   "execution_count": 40,
   "id": "4fc680c9-1113-4694-947c-106d396dce77",
   "metadata": {},
   "outputs": [
    {
     "data": {
      "text/plain": [
       "[10, 20, 30, 40, 50, 5.5, True, (2+6j)]"
      ]
     },
     "execution_count": 40,
     "metadata": {},
     "output_type": "execute_result"
    }
   ],
   "source": [
    "l1"
   ]
  },
  {
   "cell_type": "code",
   "execution_count": 41,
   "id": "ceb6a0dc-70c3-48ec-af07-deffa19ba113",
   "metadata": {},
   "outputs": [
    {
     "data": {
      "text/plain": [
       "[10, 20, 30, 40, 50]"
      ]
     },
     "execution_count": 41,
     "metadata": {},
     "output_type": "execute_result"
    }
   ],
   "source": [
    "l"
   ]
  },
  {
   "cell_type": "code",
   "execution_count": 42,
   "id": "eccebf2f-6fe0-4441-b792-7b73efaccf98",
   "metadata": {},
   "outputs": [
    {
     "name": "stdout",
     "output_type": "stream",
     "text": [
      "10\n",
      "20\n",
      "30\n",
      "40\n",
      "50\n"
     ]
    }
   ],
   "source": [
    "for i in l:\n",
    "    print(i)"
   ]
  },
  {
   "cell_type": "code",
   "execution_count": 43,
   "id": "0cb56abd-b302-41f5-8b03-da086f2f0efd",
   "metadata": {},
   "outputs": [
    {
     "data": {
      "text/plain": [
       "[10, 20, 30, 40, 50, [1, 2, 'Hello']]"
      ]
     },
     "execution_count": 43,
     "metadata": {},
     "output_type": "execute_result"
    }
   ],
   "source": [
    "l.append([1,2,'Hello'])\n",
    "l"
   ]
  },
  {
   "cell_type": "code",
   "execution_count": 44,
   "id": "8b287749-014b-4640-a362-ccd2c80a8dc8",
   "metadata": {},
   "outputs": [
    {
     "data": {
      "text/plain": [
       "[1, 2, 'Hello']"
      ]
     },
     "execution_count": 44,
     "metadata": {},
     "output_type": "execute_result"
    }
   ],
   "source": [
    "l[5]"
   ]
  },
  {
   "cell_type": "code",
   "execution_count": 45,
   "id": "5b0591fe-90bf-4da7-bf14-e19ff35920c5",
   "metadata": {},
   "outputs": [
    {
     "data": {
      "text/plain": [
       "[10, 20, 30, 40, 50, 5.5, True, (2+6j)]"
      ]
     },
     "execution_count": 45,
     "metadata": {},
     "output_type": "execute_result"
    }
   ],
   "source": [
    "l1"
   ]
  },
  {
   "cell_type": "code",
   "execution_count": 46,
   "id": "206ef0c7-9efa-44eb-a3fd-5baf0f07d14c",
   "metadata": {},
   "outputs": [
    {
     "data": {
      "text/plain": [
       "(2+6j)"
      ]
     },
     "execution_count": 46,
     "metadata": {},
     "output_type": "execute_result"
    }
   ],
   "source": [
    "l1.pop()"
   ]
  },
  {
   "cell_type": "code",
   "execution_count": 47,
   "id": "0dd5f8d3-22bb-4da2-8852-5e9848a70198",
   "metadata": {},
   "outputs": [
    {
     "data": {
      "text/plain": [
       "[10, 20, 30, 40, 50, 5.5, True]"
      ]
     },
     "execution_count": 47,
     "metadata": {},
     "output_type": "execute_result"
    }
   ],
   "source": [
    "l1"
   ]
  },
  {
   "cell_type": "code",
   "execution_count": 53,
   "id": "a780d17d-3147-4e39-a6a8-d7bb2bd73695",
   "metadata": {},
   "outputs": [
    {
     "data": {
      "text/plain": [
       "[10, 20, 30]"
      ]
     },
     "execution_count": 53,
     "metadata": {},
     "output_type": "execute_result"
    }
   ],
   "source": [
    "l1"
   ]
  },
  {
   "cell_type": "code",
   "execution_count": 54,
   "id": "72e79367-87d6-4da4-ad52-cd9ae61b35ef",
   "metadata": {},
   "outputs": [],
   "source": [
    "l1 = [10,20,30,40,50,5.5, True]"
   ]
  },
  {
   "cell_type": "code",
   "execution_count": 55,
   "id": "ed77f910-2ac6-46a1-b1bc-92680bc8c073",
   "metadata": {},
   "outputs": [
    {
     "data": {
      "text/plain": [
       "[10, 20, 30, 40, 50, 5.5, True]"
      ]
     },
     "execution_count": 55,
     "metadata": {},
     "output_type": "execute_result"
    }
   ],
   "source": [
    "l1"
   ]
  },
  {
   "cell_type": "code",
   "execution_count": 57,
   "id": "05c75d93-0244-4b9c-842c-7b488413c402",
   "metadata": {},
   "outputs": [
    {
     "data": {
      "text/plain": [
       "[10, 20, 40, 50, 5.5, True]"
      ]
     },
     "execution_count": 57,
     "metadata": {},
     "output_type": "execute_result"
    }
   ],
   "source": [
    "l1.pop(2)\n",
    "l1"
   ]
  },
  {
   "cell_type": "code",
   "execution_count": 58,
   "id": "9abeda6e-a7e1-4cd1-8b30-5bad88d57ea7",
   "metadata": {},
   "outputs": [
    {
     "data": {
      "text/plain": [
       "[10, 20, 40, 50, 60, 5.5, True]"
      ]
     },
     "execution_count": 58,
     "metadata": {},
     "output_type": "execute_result"
    }
   ],
   "source": [
    "l1.insert(4,60)\n",
    "l1"
   ]
  },
  {
   "cell_type": "code",
   "execution_count": 60,
   "id": "b738e92e-6f8c-450d-a12e-27b865bfb9ac",
   "metadata": {},
   "outputs": [
    {
     "data": {
      "text/plain": [
       "[10, 20, 30, 40, 50, [1, 2, 'Hello']]"
      ]
     },
     "execution_count": 60,
     "metadata": {},
     "output_type": "execute_result"
    }
   ],
   "source": [
    "l"
   ]
  },
  {
   "cell_type": "code",
   "execution_count": 61,
   "id": "3dbe1b91-f8f4-40e1-ac84-67b371639164",
   "metadata": {},
   "outputs": [],
   "source": [
    "l1.extend(l)"
   ]
  },
  {
   "cell_type": "code",
   "execution_count": 62,
   "id": "667cbd59-34eb-4fa6-b542-8d3bc5eb4442",
   "metadata": {},
   "outputs": [
    {
     "data": {
      "text/plain": [
       "[10, 20, 40, 50, 60, 5.5, True, 10, 20, 30, 40, 50, [1, 2, 'Hello']]"
      ]
     },
     "execution_count": 62,
     "metadata": {},
     "output_type": "execute_result"
    }
   ],
   "source": [
    "l1"
   ]
  },
  {
   "cell_type": "code",
   "execution_count": 63,
   "id": "39abc429-4250-4cde-bf51-9ce8945fc2db",
   "metadata": {},
   "outputs": [
    {
     "name": "stdout",
     "output_type": "stream",
     "text": [
      "10\n",
      "20\n",
      "40\n",
      "50\n",
      "60\n",
      "5.5\n",
      "True\n",
      "10\n",
      "20\n",
      "30\n",
      "40\n",
      "50\n",
      "[1, 2, 'Hello']\n"
     ]
    }
   ],
   "source": [
    "for i in l1:\n",
    "    print(i)"
   ]
  },
  {
   "cell_type": "code",
   "execution_count": 64,
   "id": "c4c18862-12c7-4ebf-b33b-946faf416c31",
   "metadata": {},
   "outputs": [
    {
     "name": "stdout",
     "output_type": "stream",
     "text": [
      "(0, 10)\n",
      "(1, 20)\n",
      "(2, 40)\n",
      "(3, 50)\n",
      "(4, 60)\n",
      "(5, 5.5)\n",
      "(6, True)\n",
      "(7, 10)\n",
      "(8, 20)\n",
      "(9, 30)\n",
      "(10, 40)\n",
      "(11, 50)\n",
      "(12, [1, 2, 'Hello'])\n"
     ]
    }
   ],
   "source": [
    "for i in enumerate(l1):\n",
    "    print(i)"
   ]
  },
  {
   "cell_type": "code",
   "execution_count": 65,
   "id": "07eaf4d2-da26-4232-8f72-ec360b345c56",
   "metadata": {},
   "outputs": [
    {
     "data": {
      "text/plain": [
       "[10, 20, 40, 50, 60, 5.5, True, 10, 20, 30, 40, 50, [1, 2, 'Hello']]"
      ]
     },
     "execution_count": 65,
     "metadata": {},
     "output_type": "execute_result"
    }
   ],
   "source": [
    "l1"
   ]
  },
  {
   "cell_type": "code",
   "execution_count": 66,
   "id": "c22f24bc-9472-4430-a248-8ed429d36721",
   "metadata": {},
   "outputs": [
    {
     "data": {
      "text/plain": [
       "True"
      ]
     },
     "execution_count": 66,
     "metadata": {},
     "output_type": "execute_result"
    }
   ],
   "source": [
    "60 in l1"
   ]
  },
  {
   "cell_type": "code",
   "execution_count": 67,
   "id": "5a4a1b5e-4e97-4ad7-a2b2-0ea18033bcb4",
   "metadata": {},
   "outputs": [
    {
     "data": {
      "text/plain": [
       "True"
      ]
     },
     "execution_count": 67,
     "metadata": {},
     "output_type": "execute_result"
    }
   ],
   "source": [
    "30 in l1"
   ]
  },
  {
   "cell_type": "code",
   "execution_count": 68,
   "id": "18a99954-38ac-48e5-992e-c02b1e325c95",
   "metadata": {},
   "outputs": [
    {
     "data": {
      "text/plain": [
       "[[1, 2, 'Hello'], 50, 40, 30, 20, 10, True, 5.5, 60, 50, 40, 20, 10]"
      ]
     },
     "execution_count": 68,
     "metadata": {},
     "output_type": "execute_result"
    }
   ],
   "source": [
    "l1.reverse()\n",
    "l1"
   ]
  },
  {
   "cell_type": "code",
   "execution_count": null,
   "id": "f15408b0-6775-4a60-a44d-aa77c4255b6a",
   "metadata": {},
   "outputs": [],
   "source": [
    "l1.sort()\n",
    "l1"
   ]
  }
 ],
 "metadata": {
  "kernelspec": {
   "display_name": "Python 3 (ipykernel)",
   "language": "python",
   "name": "python3"
  },
  "language_info": {
   "codemirror_mode": {
    "name": "ipython",
    "version": 3
   },
   "file_extension": ".py",
   "mimetype": "text/x-python",
   "name": "python",
   "nbconvert_exporter": "python",
   "pygments_lexer": "ipython3",
   "version": "3.12.7"
  }
 },
 "nbformat": 4,
 "nbformat_minor": 5
}
