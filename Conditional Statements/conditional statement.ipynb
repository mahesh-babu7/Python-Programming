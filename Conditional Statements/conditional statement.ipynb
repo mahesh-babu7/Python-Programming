{
 "cells": [
  {
   "cell_type": "markdown",
   "id": "f01e1591-fc99-4bd9-8706-13923363dd59",
   "metadata": {},
   "source": [
    "# 8:30 AM -- BASIC PYTHON PROGRAMMING TODAY"
   ]
  },
  {
   "cell_type": "code",
   "execution_count": null,
   "id": "3eed7781-36af-4193-a7a6-ea75c9435c6a",
   "metadata": {},
   "outputs": [],
   "source": [
    "import sys\n",
    "sys.version"
   ]
  },
  {
   "cell_type": "markdown",
   "id": "cda7bce3-b074-4571-b830-746cef0437c4",
   "metadata": {},
   "source": [
    "# work with numbers"
   ]
  },
  {
   "cell_type": "code",
   "execution_count": null,
   "id": "fc35d125-fae8-4cde-93a1-c8560e15ac5b",
   "metadata": {},
   "outputs": [],
   "source": [
    "3"
   ]
  },
  {
   "cell_type": "code",
   "execution_count": null,
   "id": "6df6ae90-6140-4a4f-af5c-b1c1c5b176a4",
   "metadata": {},
   "outputs": [],
   "source": [
    "2"
   ]
  },
  {
   "cell_type": "code",
   "execution_count": null,
   "id": "0f5866bb-96fb-43ab-8e4f-e047a10c614f",
   "metadata": {},
   "outputs": [],
   "source": [
    "3 + 2"
   ]
  },
  {
   "cell_type": "code",
   "execution_count": null,
   "id": "12cdba92-fe1f-485b-aa0a-3343763b221a",
   "metadata": {},
   "outputs": [],
   "source": [
    "3 - 2"
   ]
  },
  {
   "cell_type": "code",
   "execution_count": null,
   "id": "46911a8f-311e-482f-a4e6-d620f3c49059",
   "metadata": {},
   "outputs": [],
   "source": [
    "3 * 2"
   ]
  },
  {
   "cell_type": "code",
   "execution_count": null,
   "id": "9a177f32-5bea-4cbd-827a-f4df286e4b80",
   "metadata": {},
   "outputs": [],
   "source": [
    "3 ** 2"
   ]
  },
  {
   "cell_type": "code",
   "execution_count": null,
   "id": "18b005a2-234a-4c27-94ae-34ddf9d5bd00",
   "metadata": {},
   "outputs": [],
   "source": [
    "10 / 5"
   ]
  },
  {
   "cell_type": "code",
   "execution_count": null,
   "id": "580a690c-f75e-4454-92a4-59f0d6a06edd",
   "metadata": {},
   "outputs": [],
   "source": [
    "10 // 5"
   ]
  },
  {
   "cell_type": "code",
   "execution_count": null,
   "id": "6546b828-e7e0-42f3-b5b3-2cdb719ee76c",
   "metadata": {},
   "outputs": [],
   "source": [
    "# work with string "
   ]
  },
  {
   "cell_type": "code",
   "execution_count": null,
   "id": "fef32b5d-dba4-4e6d-84be-08a04d5a41c9",
   "metadata": {},
   "outputs": [],
   "source": [
    "nareshit"
   ]
  },
  {
   "cell_type": "code",
   "execution_count": null,
   "id": "9db3a8a9-af2a-4040-ae25-2b46ab4dfc8f",
   "metadata": {},
   "outputs": [],
   "source": [
    "'nareshit'"
   ]
  },
  {
   "cell_type": "code",
   "execution_count": null,
   "id": "b45ec2d0-2aff-4d56-8eda-147e2a1f78fc",
   "metadata": {},
   "outputs": [],
   "source": [
    "\" nareshit \""
   ]
  },
  {
   "cell_type": "code",
   "execution_count": null,
   "id": "76631a1e-7646-4db7-a7d7-bdb9c9a42712",
   "metadata": {},
   "outputs": [],
   "source": [
    "''' naresh it '''"
   ]
  },
  {
   "cell_type": "markdown",
   "id": "d7dda27f-ecd7-4c23-8e22-1cd46d96c7ae",
   "metadata": {},
   "source": [
    "# variable = object "
   ]
  },
  {
   "cell_type": "code",
   "execution_count": null,
   "id": "a5b543dc-9619-423b-b258-a27900c5e6dc",
   "metadata": {},
   "outputs": [],
   "source": [
    "v = 5 #v - variable & 5 for value \n",
    "v"
   ]
  },
  {
   "cell_type": "code",
   "execution_count": null,
   "id": "1cbf51ef-0b1f-4569-85fc-baa527a51871",
   "metadata": {},
   "outputs": [],
   "source": [
    "type(v)"
   ]
  },
  {
   "cell_type": "code",
   "execution_count": null,
   "id": "335f63fa-20dd-46b4-87b7-86b04b0df483",
   "metadata": {},
   "outputs": [],
   "source": [
    "v1 = 'nit'\n",
    "v2"
   ]
  },
  {
   "cell_type": "code",
   "execution_count": null,
   "id": "c99501b1-8493-4aa4-b720-ab7b0e41375b",
   "metadata": {},
   "outputs": [],
   "source": [
    "v1"
   ]
  },
  {
   "cell_type": "markdown",
   "id": "5c9c9a15-a665-4e82-82f8-aa036f09ac57",
   "metadata": {},
   "source": [
    "# 26 Th"
   ]
  },
  {
   "cell_type": "code",
   "execution_count": null,
   "id": "d5ecc38d-cd3c-4a88-bdec-454d0cc225dc",
   "metadata": {},
   "outputs": [],
   "source": [
    "a = 5.5\n",
    "type(a)"
   ]
  },
  {
   "cell_type": "code",
   "execution_count": null,
   "id": "7aecd178-df74-47da-8cab-52ea2be006c7",
   "metadata": {},
   "outputs": [],
   "source": [
    "import sys\n",
    "syst.version"
   ]
  },
  {
   "cell_type": "code",
   "execution_count": null,
   "id": "b1b56a54-4491-4330-8de4-ed999795c32e",
   "metadata": {},
   "outputs": [],
   "source": [
    "nit = 15\n",
    "NIT "
   ]
  },
  {
   "cell_type": "code",
   "execution_count": null,
   "id": "2b76264d-cfeb-4101-a6e8-5592a9a84b9d",
   "metadata": {},
   "outputs": [],
   "source": [
    "nit"
   ]
  },
  {
   "cell_type": "code",
   "execution_count": null,
   "id": "cc372c38-b710-4998-a576-e2483d760abf",
   "metadata": {},
   "outputs": [],
   "source": [
    "1a = 67\n",
    "1a"
   ]
  },
  {
   "cell_type": "code",
   "execution_count": null,
   "id": "c7b125d7-5e6a-49e2-877d-1281d6709371",
   "metadata": {},
   "outputs": [],
   "source": [
    "a1 = 67\n",
    "a1"
   ]
  },
  {
   "cell_type": "code",
   "execution_count": null,
   "id": "45e7c08c-0fd6-48a5-ab39-b308a84992c0",
   "metadata": {},
   "outputs": [],
   "source": [
    "nit$ = 89\n",
    "nit$"
   ]
  },
  {
   "cell_type": "code",
   "execution_count": null,
   "id": "1026c918-ff80-48e3-b9ab-12f9d33d9753",
   "metadata": {},
   "outputs": [],
   "source": [
    "x_train, x_test, y_train, y_test = 80, 20, 70, 30\n"
   ]
  },
  {
   "cell_type": "code",
   "execution_count": null,
   "id": "cc43fb2f-72fd-4bab-8740-718d2fbaa427",
   "metadata": {},
   "outputs": [],
   "source": [
    "x_train\n",
    "x_test\n",
    "y_train\n",
    "y_test"
   ]
  },
  {
   "cell_type": "code",
   "execution_count": null,
   "id": "beac05d4-2dd8-42a3-b2af-70fae1e4eae3",
   "metadata": {},
   "outputs": [],
   "source": [
    "print(x_train)\n",
    "print(x_test)\n",
    "print(y_train)\n",
    "print(y_test)"
   ]
  },
  {
   "cell_type": "code",
   "execution_count": null,
   "id": "88c5a2f9-0058-4f64-93ee-5c18e6f54f2f",
   "metadata": {},
   "outputs": [],
   "source": [
    "import keyword\n",
    "keyword.kwlist"
   ]
  },
  {
   "cell_type": "code",
   "execution_count": null,
   "id": "faa05dc8-355a-4ae8-bdfb-83b4928ab284",
   "metadata": {},
   "outputs": [],
   "source": [
    "if = 90\n",
    "if"
   ]
  },
  {
   "cell_type": "code",
   "execution_count": null,
   "id": "27045839-b0c1-47dd-ac33-057cf2827b2b",
   "metadata": {},
   "outputs": [],
   "source": [
    "a10 = 78\n",
    "a9 = 89"
   ]
  },
  {
   "cell_type": "code",
   "execution_count": null,
   "id": "cc2da167-1676-40ab-9e13-c335a32b623c",
   "metadata": {},
   "outputs": [],
   "source": [
    "print(a10)\n",
    "print(a9)"
   ]
  },
  {
   "cell_type": "code",
   "execution_count": null,
   "id": "5a67eb7c-7584-4ce2-88f1-5bcce8848dc3",
   "metadata": {},
   "outputs": [],
   "source": [
    "del a10"
   ]
  },
  {
   "cell_type": "code",
   "execution_count": null,
   "id": "fd923df8-2461-498a-9c28-ee471e39f4d2",
   "metadata": {},
   "outputs": [],
   "source": [
    "a10"
   ]
  },
  {
   "cell_type": "code",
   "execution_count": null,
   "id": "e9db5e76-4111-4cd5-a986-1d3bb921ab3d",
   "metadata": {},
   "outputs": [],
   "source": [
    "for = 90"
   ]
  },
  {
   "cell_type": "code",
   "execution_count": null,
   "id": "41ea22f1-bf0c-4d2e-8965-e5046c81eee0",
   "metadata": {},
   "outputs": [],
   "source": [
    "For = 90\n",
    "For "
   ]
  },
  {
   "cell_type": "code",
   "execution_count": null,
   "id": "2768f0c7-538d-458a-b86a-6fde0e120189",
   "metadata": {},
   "outputs": [],
   "source": [
    "a = True\n",
    "a"
   ]
  },
  {
   "cell_type": "code",
   "execution_count": null,
   "id": "6c529028-fe0a-4d40-a7ce-822e5d26f0c5",
   "metadata": {},
   "outputs": [],
   "source": [
    "b = 'true'\n",
    "b"
   ]
  },
  {
   "cell_type": "code",
   "execution_count": null,
   "id": "54c4ed07-c0e4-40d7-829f-97493cbc3045",
   "metadata": {},
   "outputs": [],
   "source": [
    "pi = 3.17\n",
    "pi"
   ]
  },
  {
   "cell_type": "code",
   "execution_count": null,
   "id": "d3665dee-414d-4f77-b516-7bb3d16440f4",
   "metadata": {},
   "outputs": [],
   "source": [
    "pi = 3.20\n",
    "pi"
   ]
  },
  {
   "cell_type": "code",
   "execution_count": null,
   "id": "1ae25c3e-ca1f-404a-86b9-caa47f18080d",
   "metadata": {},
   "outputs": [],
   "source": [
    "aaaaaaaaaaaaaaaaaaaaaaaaaaaaaaaaaaaaaaaaaaaaaaaaaaaaaaaaaaaa = 90\n",
    "aaaaaaaaaaaaaaaaaaaaaaaaaaaaaaaaaaaaaaaaaaaaaaaaaaaaaaaaaaaa"
   ]
  },
  {
   "cell_type": "code",
   "execution_count": null,
   "id": "1c9ca807-c9d3-4f69-b1e3-d2a58d84284f",
   "metadata": {},
   "outputs": [],
   "source": [
    "a# = 100"
   ]
  },
  {
   "cell_type": "markdown",
   "id": "d9d317d9-a4a6-4e45-a079-70bf0d1a03cd",
   "metadata": {},
   "source": [
    "# Variable are completed "
   ]
  },
  {
   "cell_type": "markdown",
   "id": "7fabad51-b944-4906-9a8e-e4cff9f40261",
   "metadata": {},
   "source": [
    "# 27th -- DATA TYPES\n",
    "INT\n",
    "FLOAT\n",
    "BOOLEAN\n",
    "COMPLEX\n",
    "STRING"
   ]
  },
  {
   "cell_type": "code",
   "execution_count": null,
   "id": "1efca90a-cf86-46b6-a174-882dab68ca8e",
   "metadata": {},
   "outputs": [],
   "source": [
    "i = 25 #value without decimal \n",
    "i"
   ]
  },
  {
   "cell_type": "code",
   "execution_count": null,
   "id": "5962ebda-e65c-4ed3-8056-0df155f1ff4c",
   "metadata": {},
   "outputs": [],
   "source": [
    "type(i)"
   ]
  },
  {
   "cell_type": "code",
   "execution_count": null,
   "id": "2dcd22d4-ed28-4284-8893-2844d8d94890",
   "metadata": {},
   "outputs": [],
   "source": [
    "print(type(i))"
   ]
  },
  {
   "cell_type": "code",
   "execution_count": null,
   "id": "c83df853-4fe2-4968-b495-568bc1024d6a",
   "metadata": {},
   "outputs": [],
   "source": [
    "petrol = 109.50 #value with decimal \n",
    "petrol"
   ]
  },
  {
   "cell_type": "code",
   "execution_count": null,
   "id": "616947c0-2861-4068-b45e-7bae7fe3ad5a",
   "metadata": {},
   "outputs": [],
   "source": [
    "type(petrol)"
   ]
  },
  {
   "cell_type": "code",
   "execution_count": null,
   "id": "44d9b216-fc54-4612-9404-276df8945eb7",
   "metadata": {},
   "outputs": [],
   "source": [
    "b = true\n",
    "b"
   ]
  },
  {
   "cell_type": "code",
   "execution_count": null,
   "id": "5ff5dc79-d55b-4a1d-9866-250bd69041ab",
   "metadata": {},
   "outputs": [],
   "source": [
    "b = True\n",
    "b"
   ]
  },
  {
   "cell_type": "code",
   "execution_count": null,
   "id": "09f4f9ec-fbc7-4158-a0aa-8706481a10db",
   "metadata": {},
   "outputs": [],
   "source": [
    "b1 = False\n",
    "b1"
   ]
  },
  {
   "cell_type": "code",
   "execution_count": null,
   "id": "cf6636c6-a099-442e-9cfa-7138e8034721",
   "metadata": {},
   "outputs": [],
   "source": [
    "True + False"
   ]
  },
  {
   "cell_type": "code",
   "execution_count": null,
   "id": "66a0233d-1826-449e-834c-a98ecd3521c0",
   "metadata": {},
   "outputs": [],
   "source": [
    "True -  True"
   ]
  },
  {
   "cell_type": "code",
   "execution_count": null,
   "id": "a09dc995-f30a-4d93-8003-b4137edddb26",
   "metadata": {},
   "outputs": [],
   "source": [
    "True * False"
   ]
  },
  {
   "cell_type": "code",
   "execution_count": null,
   "id": "ce74008b-83bf-4c37-ac2e-92e127392c78",
   "metadata": {},
   "outputs": [],
   "source": [
    "False / True"
   ]
  },
  {
   "cell_type": "code",
   "execution_count": null,
   "id": "8b594a54-acb4-4306-a0f6-547ac071ccaf",
   "metadata": {},
   "outputs": [],
   "source": [
    "False // True"
   ]
  },
  {
   "cell_type": "code",
   "execution_count": null,
   "id": "82ec9df7-098e-481d-8f40-a465bdc72800",
   "metadata": {},
   "outputs": [],
   "source": [
    "True/False "
   ]
  },
  {
   "cell_type": "code",
   "execution_count": null,
   "id": "d90cf78b-9224-4c0a-98ea-24deffc552f5",
   "metadata": {},
   "outputs": [],
   "source": [
    "c1 = 10 + 20j\n",
    "c1"
   ]
  },
  {
   "cell_type": "code",
   "execution_count": null,
   "id": "73702522-d48d-4a5e-af68-5848154a6504",
   "metadata": {},
   "outputs": [],
   "source": [
    "type(c1)"
   ]
  },
  {
   "cell_type": "code",
   "execution_count": null,
   "id": "8fd053de-227e-4aed-a01b-edfa7559dd5f",
   "metadata": {},
   "outputs": [],
   "source": [
    "c1.real"
   ]
  },
  {
   "cell_type": "code",
   "execution_count": null,
   "id": "11d7294a-29f4-40a7-b9e2-2cafa9650635",
   "metadata": {},
   "outputs": [],
   "source": [
    "c1.imaginary"
   ]
  },
  {
   "cell_type": "code",
   "execution_count": null,
   "id": "016601e5-6e2e-4d2b-aaea-5ee631ae0d9f",
   "metadata": {},
   "outputs": [],
   "source": [
    "c1.imag"
   ]
  },
  {
   "cell_type": "code",
   "execution_count": null,
   "id": "488154a7-6159-40a0-b530-23abfaad53b7",
   "metadata": {},
   "outputs": [],
   "source": [
    "c1"
   ]
  },
  {
   "cell_type": "code",
   "execution_count": null,
   "id": "7009be6d-67fc-40b6-abb4-94c0f892da71",
   "metadata": {},
   "outputs": [],
   "source": [
    "c2 = 20 + 30j"
   ]
  },
  {
   "cell_type": "code",
   "execution_count": null,
   "id": "4bd2ee0b-5e58-4c4c-a0ca-8f0e22e8c06b",
   "metadata": {},
   "outputs": [],
   "source": [
    "print(c1)\n",
    "print(c2)"
   ]
  },
  {
   "cell_type": "code",
   "execution_count": null,
   "id": "68ec3dbf-17a4-4eb6-8d01-5afa774388af",
   "metadata": {},
   "outputs": [],
   "source": [
    "c1 + c2"
   ]
  },
  {
   "cell_type": "code",
   "execution_count": null,
   "id": "6b12360d-7659-456b-82b6-2696b0d74756",
   "metadata": {},
   "outputs": [],
   "source": [
    "c1 - c2"
   ]
  },
  {
   "cell_type": "code",
   "execution_count": null,
   "id": "3300df76-cde9-4b5f-a190-9896ea0cdd46",
   "metadata": {},
   "outputs": [],
   "source": [
    "c2 - c1"
   ]
  },
  {
   "cell_type": "code",
   "execution_count": null,
   "id": "6d088d6f-4dcc-467f-adc8-37b8b8cb6e31",
   "metadata": {},
   "outputs": [],
   "source": [
    "print(c1)\n",
    "print(c2)"
   ]
  },
  {
   "cell_type": "code",
   "execution_count": null,
   "id": "5e2879ef-91e2-4ff9-a91e-1b808eeb1ae1",
   "metadata": {},
   "outputs": [],
   "source": [
    "c3 = 20+ 15i"
   ]
  },
  {
   "cell_type": "code",
   "execution_count": null,
   "id": "e316ae55-5490-4342-a244-9e68d027e0cc",
   "metadata": {},
   "outputs": [],
   "source": [
    "c1 * c2"
   ]
  },
  {
   "cell_type": "code",
   "execution_count": null,
   "id": "437898a0-9f20-49c8-a604-e73527d7bd0e",
   "metadata": {},
   "outputs": [],
   "source": [
    "s = 'nareshit'\n",
    "s"
   ]
  },
  {
   "cell_type": "code",
   "execution_count": null,
   "id": "c45b9f66-2066-4142-8f62-33ee0faecafb",
   "metadata": {},
   "outputs": [],
   "source": [
    "s1 = \"naresh it\"\n",
    "s1"
   ]
  },
  {
   "cell_type": "code",
   "execution_count": null,
   "id": "bb6124bc-717b-404d-8599-5ee16f2c9690",
   "metadata": {},
   "outputs": [],
   "source": [
    "s2 = '''naresh\n",
    "      it'''\n",
    "s2"
   ]
  },
  {
   "cell_type": "code",
   "execution_count": null,
   "id": "28804af1-e4fb-4584-83c5-e4c5bdcd9d02",
   "metadata": {},
   "outputs": [],
   "source": [
    "s"
   ]
  },
  {
   "cell_type": "markdown",
   "id": "3d7c19bd-27b9-40cb-99af-28a3c9c263e2",
   "metadata": {},
   "source": [
    "# string slicing[:]"
   ]
  },
  {
   "cell_type": "code",
   "execution_count": null,
   "id": "c162b93b-1c28-4588-b054-4f6da214ea8c",
   "metadata": {},
   "outputs": [],
   "source": [
    "s"
   ]
  },
  {
   "cell_type": "code",
   "execution_count": null,
   "id": "8ac98345-a9ae-4545-a22d-146462ebaa90",
   "metadata": {},
   "outputs": [],
   "source": [
    "s[:]"
   ]
  },
  {
   "cell_type": "code",
   "execution_count": null,
   "id": "a68a3784-3cd9-41a8-b7ee-84acb33ae3e6",
   "metadata": {},
   "outputs": [],
   "source": [
    "s[4] # forward indexin"
   ]
  },
  {
   "cell_type": "code",
   "execution_count": null,
   "id": "ea06456c-6824-4801-9e58-181b8cb24b13",
   "metadata": {},
   "outputs": [],
   "source": [
    "s"
   ]
  },
  {
   "cell_type": "code",
   "execution_count": null,
   "id": "9de3d245-b545-446d-b7c7-a0bfa5b840e6",
   "metadata": {},
   "outputs": [],
   "source": [
    "s[-4] #backward indxing "
   ]
  },
  {
   "cell_type": "code",
   "execution_count": null,
   "id": "78bec750-e007-496a-9720-22dc248a0a5d",
   "metadata": {},
   "outputs": [],
   "source": [
    "b"
   ]
  },
  {
   "cell_type": "code",
   "execution_count": null,
   "id": "256df1b3-0f8d-4241-899c-730379344217",
   "metadata": {},
   "outputs": [],
   "source": [
    "int(True)"
   ]
  },
  {
   "cell_type": "code",
   "execution_count": null,
   "id": "ab2bfc7c-7980-47b1-9a1c-819e42744c0f",
   "metadata": {},
   "outputs": [],
   "source": [
    "int(False)"
   ]
  },
  {
   "cell_type": "code",
   "execution_count": null,
   "id": "43c7c99d-508a-4b86-8979-7592892e4376",
   "metadata": {},
   "outputs": [],
   "source": [
    "True + False"
   ]
  },
  {
   "cell_type": "code",
   "execution_count": null,
   "id": "c249da4a-fe95-494e-81b0-428615d42b9c",
   "metadata": {},
   "outputs": [],
   "source": [
    "True"
   ]
  },
  {
   "cell_type": "code",
   "execution_count": null,
   "id": "54e27af9-8555-43f9-85d7-c4fbf21d6ae8",
   "metadata": {},
   "outputs": [],
   "source": [
    "s"
   ]
  },
  {
   "cell_type": "code",
   "execution_count": null,
   "id": "e607910a-031e-4461-9d1b-662f5efec882",
   "metadata": {},
   "outputs": [],
   "source": [
    "s[1:7]"
   ]
  },
  {
   "cell_type": "code",
   "execution_count": null,
   "id": "e720bce2-b7a8-447f-97ad-576c4918c2a1",
   "metadata": {},
   "outputs": [],
   "source": [
    "s"
   ]
  },
  {
   "cell_type": "code",
   "execution_count": null,
   "id": "166399e3-d8a9-4953-81cc-fa58643bdaa5",
   "metadata": {},
   "outputs": [],
   "source": [
    "s[10]"
   ]
  },
  {
   "cell_type": "code",
   "execution_count": null,
   "id": "31191f55-dbe0-481e-898e-010332e540e3",
   "metadata": {},
   "outputs": [],
   "source": [
    "s"
   ]
  },
  {
   "cell_type": "code",
   "execution_count": null,
   "id": "a9f89ddf-3990-4cf4-a0e7-ac89b85ac0d5",
   "metadata": {},
   "outputs": [],
   "source": [
    "len(s)"
   ]
  },
  {
   "cell_type": "markdown",
   "id": "1d6edb40-ffc5-4d6c-945e-9b578969f4e1",
   "metadata": {},
   "source": [
    "# python data types are completed "
   ]
  },
  {
   "cell_type": "markdown",
   "id": "a798d800-2582-4754-bdfd-7bb89f713c29",
   "metadata": {},
   "source": [
    "# type casting"
   ]
  },
  {
   "cell_type": "code",
   "execution_count": null,
   "id": "ba0a6deb-421e-4af9-916c-87d4e3cf3d4f",
   "metadata": {},
   "outputs": [],
   "source": [
    "int(2.3) #cast from float to int "
   ]
  },
  {
   "cell_type": "code",
   "execution_count": null,
   "id": "7e156609-9ea5-4b79-9c7f-acdee8d30b29",
   "metadata": {},
   "outputs": [],
   "source": [
    "int(2.3, 3.0)"
   ]
  },
  {
   "cell_type": "code",
   "execution_count": null,
   "id": "d8301ffb-c2f3-43c9-b42c-1fdf9de3c009",
   "metadata": {},
   "outputs": [],
   "source": [
    "int(True) #cast from bool to int "
   ]
  },
  {
   "cell_type": "code",
   "execution_count": null,
   "id": "9428f67c-af72-4048-94cd-16a40d40f9ed",
   "metadata": {},
   "outputs": [],
   "source": [
    "int(False) "
   ]
  },
  {
   "cell_type": "code",
   "execution_count": null,
   "id": "59bc8a12-970d-46bb-a3d7-53cea0fe685d",
   "metadata": {},
   "outputs": [],
   "source": [
    "True"
   ]
  },
  {
   "cell_type": "code",
   "execution_count": null,
   "id": "0c642d2b-4e7f-4c14-a993-dd5905a58ff8",
   "metadata": {},
   "outputs": [],
   "source": [
    "True + True "
   ]
  },
  {
   "cell_type": "code",
   "execution_count": null,
   "id": "9345202c-a3c2-40f2-a4ff-3e9ff22e7944",
   "metadata": {},
   "outputs": [],
   "source": [
    "int(1+2j)"
   ]
  },
  {
   "cell_type": "code",
   "execution_count": null,
   "id": "ce3288af-5f1e-4ceb-a3f1-f8e0b2b0f52e",
   "metadata": {},
   "outputs": [],
   "source": [
    "int('10')"
   ]
  },
  {
   "cell_type": "code",
   "execution_count": null,
   "id": "f0af209d-c102-4215-b1c6-e3f82d4a0d19",
   "metadata": {},
   "outputs": [],
   "source": [
    "int('ten')"
   ]
  },
  {
   "cell_type": "code",
   "execution_count": null,
   "id": "31ba8911-55c7-469b-8ce5-88e55aa04725",
   "metadata": {},
   "outputs": [],
   "source": [
    "float(10)"
   ]
  },
  {
   "cell_type": "code",
   "execution_count": null,
   "id": "f09bc0bb-4ef8-46d9-96c9-fb4b1ebe853a",
   "metadata": {},
   "outputs": [],
   "source": [
    "float(10, 20)"
   ]
  },
  {
   "cell_type": "code",
   "execution_count": null,
   "id": "9ea6ec90-f6c5-453a-b3fe-ab946afb74aa",
   "metadata": {},
   "outputs": [],
   "source": [
    "float(True)"
   ]
  },
  {
   "cell_type": "code",
   "execution_count": null,
   "id": "9a8650a4-8259-4420-9009-eee2fc787e1b",
   "metadata": {},
   "outputs": [],
   "source": [
    "float(False)"
   ]
  },
  {
   "cell_type": "code",
   "execution_count": null,
   "id": "363efbec-7ebe-4f60-a93b-ff0b599187a0",
   "metadata": {},
   "outputs": [],
   "source": [
    "float(1+2J)"
   ]
  },
  {
   "cell_type": "code",
   "execution_count": null,
   "id": "b231aa60-2980-45e0-85a1-44e5f0970fcc",
   "metadata": {},
   "outputs": [],
   "source": [
    "float('10')"
   ]
  },
  {
   "cell_type": "code",
   "execution_count": null,
   "id": "6955402c-79f3-4951-9b56-d46645ef5785",
   "metadata": {},
   "outputs": [],
   "source": [
    "float('ten')"
   ]
  },
  {
   "cell_type": "code",
   "execution_count": null,
   "id": "6c12c355-8582-4b4a-ad54-090252ef2bf5",
   "metadata": {},
   "outputs": [],
   "source": [
    "True"
   ]
  },
  {
   "cell_type": "code",
   "execution_count": null,
   "id": "d1ec2d44-0334-4b6c-8add-ff179e7ba0a2",
   "metadata": {},
   "outputs": [],
   "source": [
    "True + True"
   ]
  },
  {
   "cell_type": "code",
   "execution_count": null,
   "id": "db5c2f1f-7584-4156-88e1-a275de90e91d",
   "metadata": {},
   "outputs": [],
   "source": [
    "complex(10)"
   ]
  },
  {
   "cell_type": "code",
   "execution_count": null,
   "id": "f16b0012-9b2c-4100-807d-e7538d1521b9",
   "metadata": {},
   "outputs": [],
   "source": [
    "complex(10, 20)"
   ]
  },
  {
   "cell_type": "code",
   "execution_count": null,
   "id": "dbf859bf-3138-4b31-9188-4a78fc535463",
   "metadata": {},
   "outputs": [],
   "source": [
    "complex(10,20,30,40,50)"
   ]
  },
  {
   "cell_type": "code",
   "execution_count": null,
   "id": "60b4425f-7d78-4b1a-915c-a677d218fc9c",
   "metadata": {},
   "outputs": [],
   "source": [
    "complex(2.3)"
   ]
  },
  {
   "cell_type": "code",
   "execution_count": null,
   "id": "bb13796e-4a66-495d-bb9f-593792140662",
   "metadata": {},
   "outputs": [],
   "source": [
    "complex(2.3, 4)"
   ]
  },
  {
   "cell_type": "code",
   "execution_count": null,
   "id": "48bb2204-5c4c-4d56-b863-d6de1338bfaf",
   "metadata": {},
   "outputs": [],
   "source": [
    "complex(True, True)"
   ]
  },
  {
   "cell_type": "code",
   "execution_count": null,
   "id": "ce1b1c95-3346-4f22-8cac-a03647274f3e",
   "metadata": {},
   "outputs": [],
   "source": [
    "complex(False)"
   ]
  },
  {
   "cell_type": "code",
   "execution_count": null,
   "id": "2db3f1e8-534f-4858-8d4f-343c89720097",
   "metadata": {},
   "outputs": [],
   "source": [
    "complex('10')"
   ]
  },
  {
   "cell_type": "markdown",
   "id": "31748fc9-50bc-4043-9eb8-415d12f05c53",
   "metadata": {},
   "source": [
    "# 1st march "
   ]
  },
  {
   "cell_type": "code",
   "execution_count": null,
   "id": "1dd5bac6-a719-4a58-9aa5-404f167a85e1",
   "metadata": {},
   "outputs": [],
   "source": [
    "complex('10', '20')"
   ]
  },
  {
   "cell_type": "code",
   "execution_count": null,
   "id": "0d6b9878-b541-4334-95dd-4a7d086604d1",
   "metadata": {},
   "outputs": [],
   "source": [
    "complex(10, '20')"
   ]
  },
  {
   "cell_type": "code",
   "execution_count": null,
   "id": "9a32a41c-346c-4532-8710-9d7bc590c85e",
   "metadata": {},
   "outputs": [],
   "source": [
    "bool(2)"
   ]
  },
  {
   "cell_type": "code",
   "execution_count": null,
   "id": "73bc10de-fa89-4c95-8c22-31e2bbb9112f",
   "metadata": {},
   "outputs": [],
   "source": [
    "bool(0)"
   ]
  },
  {
   "cell_type": "code",
   "execution_count": null,
   "id": "4ba68c80-2616-4067-ad30-1310ba4596d0",
   "metadata": {},
   "outputs": [],
   "source": [
    "bool(2, 5)"
   ]
  },
  {
   "cell_type": "code",
   "execution_count": null,
   "id": "fb8bd90f-fa89-4617-8e3f-266dbf5bc07e",
   "metadata": {},
   "outputs": [],
   "source": [
    "bool(3.2)"
   ]
  },
  {
   "cell_type": "code",
   "execution_count": null,
   "id": "30bc8229-5de3-46fa-b64b-c6544b5d93cd",
   "metadata": {},
   "outputs": [],
   "source": [
    "bool(1 + 2j)"
   ]
  },
  {
   "cell_type": "code",
   "execution_count": null,
   "id": "c769b06b-86d4-4aa3-9a79-3379909b61a6",
   "metadata": {},
   "outputs": [],
   "source": [
    "bool(0+0j)"
   ]
  },
  {
   "cell_type": "code",
   "execution_count": null,
   "id": "ad2fc68f-4f6b-4bc6-b79c-5ae2322a58e0",
   "metadata": {},
   "outputs": [],
   "source": [
    "bool('hi')"
   ]
  },
  {
   "cell_type": "code",
   "execution_count": null,
   "id": "d6c87dca-f0a6-47d9-80cd-0ffa71295bb6",
   "metadata": {},
   "outputs": [],
   "source": [
    "bool( )"
   ]
  },
  {
   "cell_type": "code",
   "execution_count": null,
   "id": "ab5ea0a6-be0f-40b5-8718-0e6affca3974",
   "metadata": {},
   "outputs": [],
   "source": [
    "bool(*)"
   ]
  },
  {
   "cell_type": "code",
   "execution_count": null,
   "id": "9ea299f4-e513-46a5-93e8-46b90c40143a",
   "metadata": {},
   "outputs": [],
   "source": [
    "str(7)"
   ]
  },
  {
   "cell_type": "code",
   "execution_count": null,
   "id": "dcf9ca94-2ff5-44f0-9e71-be5cef31d5b0",
   "metadata": {},
   "outputs": [],
   "source": [
    "str(3.4)"
   ]
  },
  {
   "cell_type": "code",
   "execution_count": null,
   "id": "56a16646-0f09-46ae-81fd-a482a00e307a",
   "metadata": {},
   "outputs": [],
   "source": [
    "str(1+2j)"
   ]
  },
  {
   "cell_type": "code",
   "execution_count": null,
   "id": "880e8da4-682f-4f4f-9ad9-24ffcb4182a3",
   "metadata": {},
   "outputs": [],
   "source": [
    "str(TRUE)"
   ]
  },
  {
   "cell_type": "code",
   "execution_count": null,
   "id": "83a120db-2eed-4267-8750-38f0dfb5b120",
   "metadata": {},
   "outputs": [],
   "source": [
    "str(True)"
   ]
  },
  {
   "cell_type": "markdown",
   "id": "999b345a-6c61-45ab-b25f-bcf0187cf75d",
   "metadata": {},
   "source": [
    "# Type casting we are completed "
   ]
  },
  {
   "cell_type": "markdown",
   "id": "8227cd45-ee06-40a7-91c5-e1b77d177b60",
   "metadata": {},
   "source": [
    "# python operator \n",
    "    - arithmetic operator ( +, -, *, /, //, **)\n",
    "    - "
   ]
  },
  {
   "cell_type": "code",
   "execution_count": null,
   "id": "8262ad04-8db7-43a5-8bb1-4a901a0b60cb",
   "metadata": {},
   "outputs": [],
   "source": [
    "x1, y1 = 10, 5"
   ]
  },
  {
   "cell_type": "code",
   "execution_count": null,
   "id": "84b75c4d-10da-4374-9aa8-65465a707daf",
   "metadata": {},
   "outputs": [],
   "source": [
    "x1 + y1"
   ]
  },
  {
   "cell_type": "code",
   "execution_count": null,
   "id": "54ecd797-a094-4bf5-95e8-dd6ed1347799",
   "metadata": {},
   "outputs": [],
   "source": [
    "x1 - y1"
   ]
  },
  {
   "cell_type": "code",
   "execution_count": null,
   "id": "964b07f5-c9f6-4cb2-810e-996d5d94bbde",
   "metadata": {},
   "outputs": [],
   "source": [
    "x1 / y1"
   ]
  },
  {
   "cell_type": "code",
   "execution_count": null,
   "id": "f48af094-7b79-4cc6-b22a-7d01599b6db8",
   "metadata": {},
   "outputs": [],
   "source": [
    "x1 // y1"
   ]
  },
  {
   "cell_type": "code",
   "execution_count": null,
   "id": "a1ec6dcb-6d43-44e6-b8e1-7dbf051ea7e5",
   "metadata": {},
   "outputs": [],
   "source": [
    "x1 ** y1"
   ]
  },
  {
   "cell_type": "markdown",
   "id": "97cdd21f-4899-43de-8807-5ffaf30ae96e",
   "metadata": {},
   "source": [
    "# assignment operator"
   ]
  },
  {
   "cell_type": "code",
   "execution_count": null,
   "id": "679e3e59-e2aa-4fca-9be9-de65c295cc8c",
   "metadata": {},
   "outputs": [],
   "source": [
    "x = 2\n",
    "x "
   ]
  },
  {
   "cell_type": "code",
   "execution_count": null,
   "id": "17a01d38-7ca5-453b-bbcd-dcdaf131f7b1",
   "metadata": {},
   "outputs": [],
   "source": [
    "x = x + 2\n",
    "x"
   ]
  },
  {
   "cell_type": "code",
   "execution_count": null,
   "id": "d50e47d7-1348-42e9-aad5-8213a12721f8",
   "metadata": {},
   "outputs": [],
   "source": [
    "x += 2\n",
    "x"
   ]
  },
  {
   "cell_type": "code",
   "execution_count": null,
   "id": "6f282307-a236-4836-a375-e5e6a6064619",
   "metadata": {},
   "outputs": [],
   "source": [
    "x += 4"
   ]
  },
  {
   "cell_type": "code",
   "execution_count": null,
   "id": "7aa9fec7-b88b-435c-8bdc-62a76d9e2bba",
   "metadata": {},
   "outputs": [],
   "source": [
    "x"
   ]
  },
  {
   "cell_type": "code",
   "execution_count": null,
   "id": "e898e09e-e902-44ed-8621-42a49a6e6ece",
   "metadata": {},
   "outputs": [],
   "source": [
    "x -= 2\n",
    "x"
   ]
  },
  {
   "cell_type": "code",
   "execution_count": null,
   "id": "321f2a2e-6cc7-47ed-90eb-d15357040200",
   "metadata": {},
   "outputs": [],
   "source": [
    "x *= 3\n",
    "x"
   ]
  },
  {
   "cell_type": "code",
   "execution_count": null,
   "id": "ce1f0bc5-748e-427e-a77b-ab19676f6a09",
   "metadata": {},
   "outputs": [],
   "source": [
    "x /= 2\n",
    "x"
   ]
  },
  {
   "cell_type": "code",
   "execution_count": null,
   "id": "ef1ba808-d49b-4e38-b962-92d8fdf44575",
   "metadata": {},
   "outputs": [],
   "source": [
    "x //= 2\n",
    "x"
   ]
  },
  {
   "cell_type": "markdown",
   "id": "3edd26b6-0759-4f71-b423-1079c6a698be",
   "metadata": {},
   "source": [
    "## unary operator"
   ]
  },
  {
   "cell_type": "code",
   "execution_count": null,
   "id": "231f790d-57cd-41bd-97be-5545a9a8be5a",
   "metadata": {},
   "outputs": [],
   "source": [
    "n = 7 #negattion\n",
    "n"
   ]
  },
  {
   "cell_type": "code",
   "execution_count": null,
   "id": "111d07ea-a8c0-4075-9600-7d265abca49f",
   "metadata": {},
   "outputs": [],
   "source": [
    "m = -(n)\n",
    "m"
   ]
  },
  {
   "cell_type": "code",
   "execution_count": null,
   "id": "020ca794-0fe5-4170-8d15-c3722d4da70c",
   "metadata": {},
   "outputs": [],
   "source": [
    "n"
   ]
  },
  {
   "cell_type": "code",
   "execution_count": null,
   "id": "4547c6f4-27e4-409a-9bee-a03c3d43e053",
   "metadata": {},
   "outputs": [],
   "source": [
    "-n"
   ]
  },
  {
   "cell_type": "markdown",
   "id": "4abe33ed-e8ed-413c-80ce-5edd885fc355",
   "metadata": {},
   "source": [
    "## Realtional operator"
   ]
  },
  {
   "cell_type": "code",
   "execution_count": null,
   "id": "ba6cbad3-c6df-4677-9491-711102303cd3",
   "metadata": {},
   "outputs": [],
   "source": [
    "r1 = 5\n",
    "r2 = 6"
   ]
  },
  {
   "cell_type": "code",
   "execution_count": null,
   "id": "496f94df-1146-4938-a268-ea57ceef2904",
   "metadata": {},
   "outputs": [],
   "source": [
    "r1 > r2"
   ]
  },
  {
   "cell_type": "code",
   "execution_count": null,
   "id": "7c7c690b-425f-4e85-938e-daea556e8eda",
   "metadata": {},
   "outputs": [],
   "source": [
    "r1 < r2"
   ]
  },
  {
   "cell_type": "code",
   "execution_count": null,
   "id": "9e795e84-fd92-4a60-b0fb-02aed5331702",
   "metadata": {},
   "outputs": [],
   "source": [
    "r1 == r2 "
   ]
  },
  {
   "cell_type": "code",
   "execution_count": null,
   "id": "400ed6eb-96fe-4fd0-9226-b63b3d3aa0ff",
   "metadata": {},
   "outputs": [],
   "source": [
    "r1 != r2"
   ]
  },
  {
   "cell_type": "code",
   "execution_count": null,
   "id": "eed77fce-224e-406a-84e5-f2639a326089",
   "metadata": {},
   "outputs": [],
   "source": [
    "r1"
   ]
  },
  {
   "cell_type": "code",
   "execution_count": null,
   "id": "3532a336-1a33-466d-bfa6-0fd10ba040e3",
   "metadata": {},
   "outputs": [],
   "source": [
    "r2"
   ]
  },
  {
   "cell_type": "code",
   "execution_count": null,
   "id": "142a6249-f0dc-414a-adcc-bd51279d6684",
   "metadata": {},
   "outputs": [],
   "source": [
    "r3 = 6 "
   ]
  },
  {
   "cell_type": "code",
   "execution_count": null,
   "id": "825fd18b-6c97-4cf9-8422-4bfe32e5d8a3",
   "metadata": {},
   "outputs": [],
   "source": [
    "r1 == r3"
   ]
  },
  {
   "cell_type": "code",
   "execution_count": null,
   "id": "36abbdf9-adba-4afd-a858-21063128e2ed",
   "metadata": {},
   "outputs": [],
   "source": [
    "r2 == r3"
   ]
  },
  {
   "cell_type": "code",
   "execution_count": null,
   "id": "6f1e193a-34c9-479e-aacf-3db178300198",
   "metadata": {},
   "outputs": [],
   "source": [
    "print(r1)\n",
    "print(r2)\n",
    "print(r3)"
   ]
  },
  {
   "cell_type": "code",
   "execution_count": null,
   "id": "a71a98a5-8131-4e24-bf18-d53b4dfaca11",
   "metadata": {},
   "outputs": [],
   "source": [
    "r3 >= r2"
   ]
  },
  {
   "cell_type": "code",
   "execution_count": null,
   "id": "cfc81447-3cd9-4668-98d2-913366c2dc55",
   "metadata": {},
   "outputs": [],
   "source": [
    "r2 <= r3"
   ]
  },
  {
   "attachments": {
    "802cf5f3-6f68-4a03-b530-849d9276a901.png": {
     "image/png": "[encoded data removed]"
    }
   },
   "cell_type": "markdown",
   "id": "1b2a8ffb-f891-4bc7-bb99-eae431d288c5",
   "metadata": {},
   "source": [
    "![image.png](attachment:802cf5f3-6f68-4a03-b530-849d9276a901.png)"
   ]
  },
  {
   "cell_type": "code",
   "execution_count": null,
   "id": "b8364fea-6965-4a9e-b00c-adea4e5ff948",
   "metadata": {},
   "outputs": [],
   "source": [
    "a = 5\n",
    "b = 4"
   ]
  },
  {
   "cell_type": "code",
   "execution_count": null,
   "id": "7c2c03c1-d119-40a7-8a75-9f1c9cd70b1c",
   "metadata": {},
   "outputs": [],
   "source": [
    "a < 8 and b < 5"
   ]
  },
  {
   "cell_type": "code",
   "execution_count": null,
   "id": "00259d6a-188b-4561-aecb-5ac7775e4b5f",
   "metadata": {},
   "outputs": [],
   "source": [
    "a<8 or b<5"
   ]
  },
  {
   "cell_type": "code",
   "execution_count": null,
   "id": "65873034-a323-4256-b46c-e82c52ecf0ec",
   "metadata": {},
   "outputs": [],
   "source": [
    "print(a)\n",
    "print(b)"
   ]
  },
  {
   "cell_type": "code",
   "execution_count": null,
   "id": "3b014f0d-23f1-42d3-a426-b21d69dbb377",
   "metadata": {},
   "outputs": [],
   "source": [
    "b>5 or a<10"
   ]
  },
  {
   "cell_type": "code",
   "execution_count": null,
   "id": "403eb981-6976-49ce-9593-36fab55e4026",
   "metadata": {},
   "outputs": [],
   "source": [
    "x = False\n",
    "x"
   ]
  },
  {
   "cell_type": "code",
   "execution_count": null,
   "id": "e7c3d362-b79e-4edc-9d2d-bc085f3f3da0",
   "metadata": {},
   "outputs": [],
   "source": [
    "not x"
   ]
  },
  {
   "cell_type": "code",
   "execution_count": null,
   "id": "1755d73c-75a7-483b-8eaf-fe4b81baba09",
   "metadata": {},
   "outputs": [],
   "source": [
    "y = True\n",
    "y"
   ]
  },
  {
   "cell_type": "markdown",
   "id": "f600075b-3c2c-4fe8-923d-d178cea491d1",
   "metadata": {},
   "source": [
    "not y"
   ]
  },
  {
   "cell_type": "markdown",
   "id": "a5d5be40-34e0-4f74-aeef-e3b643c51079",
   "metadata": {},
   "source": [
    "# python operator "
   ]
  },
  {
   "cell_type": "markdown",
   "id": "2cc6ff5f-5571-4e1d-a5b7-69eed163fdc6",
   "metadata": {},
   "source": [
    "# 3rd march"
   ]
  },
  {
   "cell_type": "markdown",
   "id": "01a61bfd-87c0-499a-a499-4a51e441c6de",
   "metadata": {},
   "source": [
    "# Datastruture - user will define the value more then one\r\n",
    "  - list \r\n",
    "  - tuple\r\n",
    "  - set\r\n",
    "  - **dict**"
   ]
  },
  {
   "cell_type": "code",
   "execution_count": null,
   "id": "eff3e84b-0593-4dfb-9ff0-ce6398b70acb",
   "metadata": {},
   "outputs": [],
   "source": [
    "l = []\n",
    "l"
   ]
  },
  {
   "cell_type": "code",
   "execution_count": null,
   "id": "b4e82a53-826d-47fb-8f98-83fdf5ef9fdc",
   "metadata": {},
   "outputs": [],
   "source": [
    "len(l)"
   ]
  },
  {
   "cell_type": "code",
   "execution_count": null,
   "id": "7ade2296-5f5f-4fc5-adf9-cde748ca4e48",
   "metadata": {},
   "outputs": [],
   "source": [
    "l.append(10)"
   ]
  },
  {
   "cell_type": "code",
   "execution_count": null,
   "id": "7e203586-fc09-4a45-8491-9c185a0e1ce6",
   "metadata": {},
   "outputs": [],
   "source": [
    "l"
   ]
  },
  {
   "cell_type": "code",
   "execution_count": null,
   "id": "d4773643-b270-4e2c-9fd4-1520bafc9d60",
   "metadata": {},
   "outputs": [],
   "source": [
    "len(l)"
   ]
  },
  {
   "cell_type": "code",
   "execution_count": null,
   "id": "c99b6f54-7796-4c52-8dd2-0169673c8e18",
   "metadata": {},
   "outputs": [],
   "source": [
    "l"
   ]
  },
  {
   "cell_type": "code",
   "execution_count": null,
   "id": "791d3d41-4f92-4d35-8075-b86324a78cfb",
   "metadata": {},
   "outputs": [],
   "source": [
    "l.append(20)\n",
    "l.append(30)\n",
    "l.append(40)\n",
    "l.append(40)"
   ]
  },
  {
   "cell_type": "code",
   "execution_count": null,
   "id": "988274cc-2346-4d92-94d8-03a6c88ecec2",
   "metadata": {},
   "outputs": [],
   "source": [
    "l"
   ]
  },
  {
   "cell_type": "code",
   "execution_count": null,
   "id": "85bda331-499b-49a6-ae10-57e6af00e1bb",
   "metadata": {},
   "outputs": [],
   "source": [
    "len(l)"
   ]
  },
  {
   "cell_type": "code",
   "execution_count": null,
   "id": "fcdef484-c507-4746-957e-a3abe2e08106",
   "metadata": {},
   "outputs": [],
   "source": [
    "l"
   ]
  },
  {
   "cell_type": "code",
   "execution_count": null,
   "id": "12de0fa3-342d-4802-8aca-9ebc565919a5",
   "metadata": {},
   "outputs": [],
   "source": [
    "id(l)"
   ]
  },
  {
   "cell_type": "code",
   "execution_count": null,
   "id": "0b3da62b-b7f6-4507-b95d-b0bf7a679164",
   "metadata": {},
   "outputs": [],
   "source": [
    "print(type(l))"
   ]
  },
  {
   "cell_type": "code",
   "execution_count": null,
   "id": "dd4a3fb3-30aa-4e6a-a3c6-8a76d4a1f87b",
   "metadata": {},
   "outputs": [],
   "source": [
    "a = True\n",
    "type(a)"
   ]
  },
  {
   "cell_type": "code",
   "execution_count": null,
   "id": "8f864db0-2bee-4153-9a1e-e94bceca1dfa",
   "metadata": {},
   "outputs": [],
   "source": [
    "import keyword\n",
    "keyword.kwlist"
   ]
  },
  {
   "cell_type": "code",
   "execution_count": null,
   "id": "7cedbdd6-631c-4c1a-953f-7cb7a8dbdf0d",
   "metadata": {},
   "outputs": [],
   "source": [
    "len(keyword.kwlist)"
   ]
  },
  {
   "cell_type": "code",
   "execution_count": null,
   "id": "fe8f1212-6822-46ba-8a3d-9d372b17ea67",
   "metadata": {},
   "outputs": [],
   "source": [
    "l"
   ]
  },
  {
   "cell_type": "code",
   "execution_count": null,
   "id": "6320cc7e-2443-4a19-9d9d-2afabc2c0f83",
   "metadata": {},
   "outputs": [],
   "source": [
    "l[:]"
   ]
  },
  {
   "cell_type": "code",
   "execution_count": null,
   "id": "234c2a82-7b93-4625-8ee5-03f7f0d33d56",
   "metadata": {},
   "outputs": [],
   "source": [
    "l[0]"
   ]
  },
  {
   "cell_type": "code",
   "execution_count": null,
   "id": "34394be8-e801-46eb-be3e-2036610727ac",
   "metadata": {},
   "outputs": [],
   "source": [
    "l[1]"
   ]
  },
  {
   "cell_type": "code",
   "execution_count": null,
   "id": "2f07c704-6cc8-4441-8be2-2fa4b1805a95",
   "metadata": {},
   "outputs": [],
   "source": [
    "l[-3]"
   ]
  },
  {
   "cell_type": "code",
   "execution_count": null,
   "id": "d8a61612-1b98-44bd-855e-7e2326f07380",
   "metadata": {},
   "outputs": [],
   "source": [
    "l"
   ]
  },
  {
   "cell_type": "code",
   "execution_count": null,
   "id": "12dfcbfe-11cb-47b1-b582-24af9097d936",
   "metadata": {},
   "outputs": [],
   "source": [
    "l1 = l.copy()\n",
    "l1"
   ]
  },
  {
   "cell_type": "code",
   "execution_count": null,
   "id": "c887e650-f1d4-4ee1-bd5b-7cb900fed9ca",
   "metadata": {},
   "outputs": [],
   "source": [
    "l == l1"
   ]
  },
  {
   "cell_type": "code",
   "execution_count": null,
   "id": "8e7ca2da-14c1-4ac3-9525-c55d56748922",
   "metadata": {},
   "outputs": [],
   "source": [
    "print(len(l))\n",
    "print(len(l1))"
   ]
  },
  {
   "cell_type": "code",
   "execution_count": null,
   "id": "7c0be3de-f3f3-417c-a6c9-e6721ad74255",
   "metadata": {},
   "outputs": [],
   "source": [
    "l1"
   ]
  },
  {
   "cell_type": "code",
   "execution_count": null,
   "id": "074f89ad-f7c4-4601-aaa2-1476b8ca3c19",
   "metadata": {},
   "outputs": [],
   "source": [
    "l1.append(2.3)\n",
    "l1.append(True)\n",
    "l1.append(1+2j)"
   ]
  },
  {
   "cell_type": "code",
   "execution_count": null,
   "id": "e5450bb3-7f7b-4359-bfb5-95f9468cfa41",
   "metadata": {},
   "outputs": [],
   "source": [
    "l1"
   ]
  },
  {
   "cell_type": "code",
   "execution_count": null,
   "id": "baa6a023-c617-4219-82ba-be2bd5ee8920",
   "metadata": {},
   "outputs": [],
   "source": [
    "l1.append(50)\n",
    "l1"
   ]
  },
  {
   "cell_type": "code",
   "execution_count": null,
   "id": "d294b28d-23a7-426d-838a-4d9720df3b4e",
   "metadata": {},
   "outputs": [],
   "source": [
    "l"
   ]
  },
  {
   "cell_type": "code",
   "execution_count": null,
   "id": "a34b8de6-fc2a-4b80-983f-e2ecb0b72f14",
   "metadata": {},
   "outputs": [],
   "source": [
    "l.count(10)"
   ]
  },
  {
   "cell_type": "code",
   "execution_count": null,
   "id": "6e288465-244f-49cc-9294-3d9fab91bc12",
   "metadata": {},
   "outputs": [],
   "source": [
    "l.count(40)"
   ]
  },
  {
   "cell_type": "code",
   "execution_count": null,
   "id": "cac053d8-d195-4f9b-a252-236d3c154143",
   "metadata": {},
   "outputs": [],
   "source": [
    "l"
   ]
  },
  {
   "cell_type": "code",
   "execution_count": null,
   "id": "6f442976-5c53-47a2-aa6e-23e62fe914bc",
   "metadata": {},
   "outputs": [],
   "source": [
    "l.count(100)"
   ]
  },
  {
   "cell_type": "code",
   "execution_count": null,
   "id": "aedcd03c-7b36-496e-b599-2fbc00b6885c",
   "metadata": {},
   "outputs": [],
   "source": [
    "l"
   ]
  },
  {
   "cell_type": "code",
   "execution_count": null,
   "id": "94d1a02b-2215-4b98-b891-edf8e3a2166c",
   "metadata": {},
   "outputs": [],
   "source": [
    "l1"
   ]
  },
  {
   "cell_type": "code",
   "execution_count": null,
   "id": "5120750e-b1b0-44fe-a84c-515cd880a3d9",
   "metadata": {},
   "outputs": [],
   "source": [
    "l2 = l1.copy()"
   ]
  },
  {
   "cell_type": "code",
   "execution_count": null,
   "id": "503d3f01-73ed-4731-a809-d99a988f6cd3",
   "metadata": {},
   "outputs": [],
   "source": [
    "l2"
   ]
  },
  {
   "cell_type": "code",
   "execution_count": null,
   "id": "4f8c0ca5-706b-4359-a427-d07b8b807d1d",
   "metadata": {},
   "outputs": [],
   "source": [
    "l2.remove(True)"
   ]
  },
  {
   "cell_type": "code",
   "execution_count": null,
   "id": "46fa6cc3-6e03-434c-abd3-b8777b6ead34",
   "metadata": {},
   "outputs": [],
   "source": [
    "l2"
   ]
  },
  {
   "cell_type": "code",
   "execution_count": null,
   "id": "cd9ebfca-e9d3-4463-b711-c1f15a6c4b93",
   "metadata": {},
   "outputs": [],
   "source": [
    "l2"
   ]
  },
  {
   "cell_type": "code",
   "execution_count": null,
   "id": "75a26661-25f9-4469-a645-5e6d2b8ab7ca",
   "metadata": {},
   "outputs": [],
   "source": [
    "l2.remove(1+2j)\n",
    "l2"
   ]
  },
  {
   "cell_type": "code",
   "execution_count": null,
   "id": "e45b87b1-cdcf-48d9-aaa5-1d44607a6e59",
   "metadata": {},
   "outputs": [],
   "source": [
    "l2"
   ]
  },
  {
   "cell_type": "code",
   "execution_count": null,
   "id": "5a232172-db5c-449e-9916-a31494a29795",
   "metadata": {},
   "outputs": [],
   "source": [
    "l2.clear()"
   ]
  },
  {
   "cell_type": "code",
   "execution_count": null,
   "id": "fd23ec79-76c9-45bf-8164-92acd9d2998d",
   "metadata": {},
   "outputs": [],
   "source": [
    "l2"
   ]
  },
  {
   "cell_type": "code",
   "execution_count": null,
   "id": "235477cb-f917-47b5-8c8c-e0c6a0030dd4",
   "metadata": {},
   "outputs": [],
   "source": [
    "del l2"
   ]
  },
  {
   "cell_type": "code",
   "execution_count": null,
   "id": "e31e15c7-aa20-42bf-b1d6-18bf5c6b6d7f",
   "metadata": {},
   "outputs": [],
   "source": [
    "l2"
   ]
  },
  {
   "cell_type": "markdown",
   "id": "393c779b-8ede-44f8-8211-71a94930b4f0",
   "metadata": {},
   "source": [
    "# 4th march - list"
   ]
  },
  {
   "cell_type": "code",
   "execution_count": null,
   "id": "a5446d61-5d48-41a3-964f-3e08c511f9e7",
   "metadata": {},
   "outputs": [],
   "source": [
    "print(l)\n",
    "print(l1)"
   ]
  },
  {
   "cell_type": "code",
   "execution_count": null,
   "id": "35b12529-1456-4abb-8258-55fb51013ec5",
   "metadata": {},
   "outputs": [],
   "source": [
    "print(len(l))\n",
    "print(len(l1))"
   ]
  },
  {
   "cell_type": "code",
   "execution_count": null,
   "id": "656d8cc2-76ca-498a-978e-a2c226be74d5",
   "metadata": {},
   "outputs": [],
   "source": [
    "l"
   ]
  },
  {
   "cell_type": "code",
   "execution_count": null,
   "id": "8c5f1af4-b928-4f3f-9a73-a941e7a6043d",
   "metadata": {},
   "outputs": [],
   "source": [
    "for i in l:\n",
    "    print(i)"
   ]
  },
  {
   "cell_type": "code",
   "execution_count": null,
   "id": "7eb3d226-f5e7-44b7-91fb-7c3e0db9816e",
   "metadata": {},
   "outputs": [],
   "source": [
    "l.append([1,2,3,'hi']) #nested list \n",
    "l"
   ]
  },
  {
   "cell_type": "code",
   "execution_count": null,
   "id": "35b3c8ed-6897-405e-b816-a141fabb3256",
   "metadata": {},
   "outputs": [],
   "source": [
    "l"
   ]
  },
  {
   "cell_type": "code",
   "execution_count": null,
   "id": "e580b9ba-ae61-4083-b340-b82a1aff2478",
   "metadata": {},
   "outputs": [],
   "source": [
    "l.remove(40) #remove the element "
   ]
  },
  {
   "cell_type": "code",
   "execution_count": null,
   "id": "27c02630-8fcf-4adb-91b1-5a511454bb1d",
   "metadata": {},
   "outputs": [],
   "source": [
    "l"
   ]
  },
  {
   "cell_type": "code",
   "execution_count": null,
   "id": "ea5e7e4b-642d-4900-8959-1832d304a93a",
   "metadata": {},
   "outputs": [],
   "source": [
    "l"
   ]
  },
  {
   "cell_type": "code",
   "execution_count": null,
   "id": "c6d0a016-5460-4bc8-85cd-095866123c96",
   "metadata": {},
   "outputs": [],
   "source": [
    "l[4]"
   ]
  },
  {
   "cell_type": "code",
   "execution_count": null,
   "id": "36b4ea03-5ed1-4b7e-8e13-245a2e5353b1",
   "metadata": {},
   "outputs": [],
   "source": [
    "l"
   ]
  },
  {
   "cell_type": "code",
   "execution_count": null,
   "id": "e4245bd4-c730-43da-a0fb-072f5f8bdd9c",
   "metadata": {},
   "outputs": [],
   "source": [
    "l.pop()"
   ]
  },
  {
   "cell_type": "code",
   "execution_count": null,
   "id": "8f3449cc-c8f5-45ce-8ab1-f607b08c3b20",
   "metadata": {},
   "outputs": [],
   "source": [
    "l"
   ]
  },
  {
   "cell_type": "code",
   "execution_count": null,
   "id": "433f0fd3-db28-4ed4-b0da-a380c24b95e5",
   "metadata": {},
   "outputs": [],
   "source": [
    "l1"
   ]
  },
  {
   "cell_type": "code",
   "execution_count": null,
   "id": "925ba8b9-98bf-4ccc-a610-ebe296be5911",
   "metadata": {},
   "outputs": [],
   "source": [
    "l1.pop()"
   ]
  },
  {
   "cell_type": "code",
   "execution_count": null,
   "id": "f3461806-448b-4017-8f0b-f8bd92dc6c6f",
   "metadata": {},
   "outputs": [],
   "source": [
    "l1"
   ]
  },
  {
   "cell_type": "code",
   "execution_count": null,
   "id": "3b707aeb-6fec-4d74-a007-4ceb89634fdb",
   "metadata": {},
   "outputs": [],
   "source": [
    "l1.pop()"
   ]
  },
  {
   "cell_type": "code",
   "execution_count": null,
   "id": "9f6f454b-b3b3-41a7-b3dc-7c6ac907245d",
   "metadata": {},
   "outputs": [],
   "source": [
    "l1"
   ]
  },
  {
   "cell_type": "code",
   "execution_count": null,
   "id": "3ed91e3a-2913-4e58-b84d-85d4b0751b5e",
   "metadata": {},
   "outputs": [],
   "source": [
    "l1.pop(-1)"
   ]
  },
  {
   "cell_type": "code",
   "execution_count": null,
   "id": "eb86c717-7568-4b60-854c-1e6d5970a0d0",
   "metadata": {},
   "outputs": [],
   "source": [
    "l1"
   ]
  },
  {
   "cell_type": "code",
   "execution_count": null,
   "id": "12a969c6-bb0f-42ca-8ab9-5bf073a0e3b6",
   "metadata": {},
   "outputs": [],
   "source": [
    "l1.pop(3)"
   ]
  },
  {
   "cell_type": "code",
   "execution_count": null,
   "id": "d246b110-99b2-40f6-8ff3-a73ea2247521",
   "metadata": {},
   "outputs": [],
   "source": [
    "l1"
   ]
  },
  {
   "cell_type": "code",
   "execution_count": null,
   "id": "aa909c6a-c95e-4455-b522-3e60a340f981",
   "metadata": {},
   "outputs": [],
   "source": [
    "print(l)\n",
    "print(l1)"
   ]
  },
  {
   "cell_type": "code",
   "execution_count": null,
   "id": "ff1fbcfd-fc4d-4d9a-b17c-fecea7122859",
   "metadata": {},
   "outputs": [],
   "source": [
    "l"
   ]
  },
  {
   "cell_type": "code",
   "execution_count": null,
   "id": "0f18d84b-324e-44f7-ba25-8adedcafb3f6",
   "metadata": {},
   "outputs": [],
   "source": [
    "l.insert(35,3)"
   ]
  },
  {
   "cell_type": "code",
   "execution_count": null,
   "id": "6d015774-1d14-41bf-a01e-438dafcce6e0",
   "metadata": {},
   "outputs": [],
   "source": [
    "l"
   ]
  },
  {
   "cell_type": "code",
   "execution_count": null,
   "id": "f0967b89-a509-44f0-9b26-c824c46f900c",
   "metadata": {},
   "outputs": [],
   "source": [
    "l.insert(3,35)"
   ]
  },
  {
   "cell_type": "code",
   "execution_count": null,
   "id": "ee090665-4b1b-4018-9ae4-598ce70d7028",
   "metadata": {},
   "outputs": [],
   "source": [
    "l"
   ]
  },
  {
   "cell_type": "code",
   "execution_count": null,
   "id": "39102bae-0376-45d3-98f8-34bac8bfd273",
   "metadata": {},
   "outputs": [],
   "source": [
    "l1"
   ]
  },
  {
   "cell_type": "code",
   "execution_count": null,
   "id": "45bc2264-ee8e-447e-ad09-2718db24bff2",
   "metadata": {},
   "outputs": [],
   "source": [
    "l1.insert(15,1)"
   ]
  },
  {
   "cell_type": "code",
   "execution_count": null,
   "id": "4244ed19-0b00-416b-b29e-07f4c1382d44",
   "metadata": {},
   "outputs": [],
   "source": [
    "l1"
   ]
  },
  {
   "cell_type": "code",
   "execution_count": null,
   "id": "b5ea8757-1986-4965-abdb-3cbd05f3f869",
   "metadata": {},
   "outputs": [],
   "source": [
    "l1.insert(1, 15)"
   ]
  },
  {
   "cell_type": "code",
   "execution_count": null,
   "id": "0e815b8b-4f28-44fd-b986-97a2499546a4",
   "metadata": {},
   "outputs": [],
   "source": [
    "l1"
   ]
  },
  {
   "cell_type": "code",
   "execution_count": null,
   "id": "d59acb8a-b091-41f5-88c6-4dbad1c5a71c",
   "metadata": {},
   "outputs": [],
   "source": [
    "l2 = []"
   ]
  },
  {
   "cell_type": "code",
   "execution_count": null,
   "id": "be0e797b-bcc5-48c1-a138-4d0460d589a7",
   "metadata": {},
   "outputs": [],
   "source": [
    "l2"
   ]
  },
  {
   "cell_type": "code",
   "execution_count": null,
   "id": "e971f8a2-573d-4b65-9f59-fcb170ec16ad",
   "metadata": {},
   "outputs": [],
   "source": [
    "l2.extend(l1)"
   ]
  },
  {
   "cell_type": "code",
   "execution_count": null,
   "id": "96bba9c1-0f26-49ef-8992-3712249fa2c3",
   "metadata": {},
   "outputs": [],
   "source": [
    "l2"
   ]
  },
  {
   "cell_type": "code",
   "execution_count": null,
   "id": "437724c6-6fb9-4dbb-93e1-7f82609be2d5",
   "metadata": {},
   "outputs": [],
   "source": [
    "l"
   ]
  },
  {
   "cell_type": "code",
   "execution_count": null,
   "id": "955f07e1-d007-46c7-a7c3-1f95ddeef0eb",
   "metadata": {},
   "outputs": [],
   "source": [
    "l1"
   ]
  },
  {
   "cell_type": "code",
   "execution_count": null,
   "id": "4ef0d648-0f09-4204-aa8c-0b43476f5219",
   "metadata": {},
   "outputs": [],
   "source": [
    "l.extend(l1)"
   ]
  },
  {
   "cell_type": "code",
   "execution_count": null,
   "id": "1a2ed2d8-1c3e-4e1a-9bc8-bb34ee1f9f1d",
   "metadata": {},
   "outputs": [],
   "source": [
    "l"
   ]
  },
  {
   "cell_type": "code",
   "execution_count": null,
   "id": "f0046ba8-5d2b-45d5-8558-f89f858ef66d",
   "metadata": {},
   "outputs": [],
   "source": [
    "print(l)"
   ]
  },
  {
   "cell_type": "code",
   "execution_count": null,
   "id": "755b934b-d652-4938-9526-3fd4b32e1369",
   "metadata": {},
   "outputs": [],
   "source": [
    "print(l1)"
   ]
  },
  {
   "cell_type": "code",
   "execution_count": null,
   "id": "b339b9bd-228c-4cad-b0b2-ac573b2c11c8",
   "metadata": {},
   "outputs": [],
   "source": [
    "print(l2)"
   ]
  },
  {
   "cell_type": "code",
   "execution_count": null,
   "id": "b8484c66-0953-45d1-b893-3cc19c25f1a6",
   "metadata": {},
   "outputs": [],
   "source": [
    "l2.index(30)"
   ]
  },
  {
   "cell_type": "code",
   "execution_count": null,
   "id": "ce281ea2-4b0f-4e43-827b-bb0d2ad0c86f",
   "metadata": {},
   "outputs": [],
   "source": [
    "l2."
   ]
  },
  {
   "cell_type": "code",
   "execution_count": null,
   "id": "8599d8fc-c4e8-4601-9df1-e288fb71305d",
   "metadata": {},
   "outputs": [],
   "source": [
    "l"
   ]
  },
  {
   "cell_type": "code",
   "execution_count": null,
   "id": "9714e501-1b3e-420b-8e8e-a449e7b30c14",
   "metadata": {},
   "outputs": [],
   "source": [
    "l.index(30)"
   ]
  },
  {
   "cell_type": "code",
   "execution_count": null,
   "id": "7ae47dd2-f50f-48d2-9beb-06dfd6fb8966",
   "metadata": {},
   "outputs": [],
   "source": [
    "l"
   ]
  },
  {
   "cell_type": "code",
   "execution_count": null,
   "id": "83ec6a6b-8a8a-4f5d-8c34-9e3c044d1b79",
   "metadata": {},
   "outputs": [],
   "source": [
    "l1"
   ]
  },
  {
   "cell_type": "code",
   "execution_count": null,
   "id": "724a0e31-5b31-4533-94f5-e5f72bca690b",
   "metadata": {},
   "outputs": [],
   "source": [
    "l1.sort()"
   ]
  },
  {
   "cell_type": "code",
   "execution_count": null,
   "id": "a28e6e1c-3d8b-422f-8da5-057486e37a96",
   "metadata": {},
   "outputs": [],
   "source": [
    "l1"
   ]
  },
  {
   "cell_type": "code",
   "execution_count": null,
   "id": "ff88cc67-0dd0-40a8-bf3b-cb73fb1e57f2",
   "metadata": {},
   "outputs": [],
   "source": [
    "l1.sort(reverse=True) #descending order "
   ]
  },
  {
   "cell_type": "code",
   "execution_count": null,
   "id": "14a500a9-bacc-4a3b-a0a1-e68e074b1737",
   "metadata": {},
   "outputs": [],
   "source": [
    "l1"
   ]
  },
  {
   "cell_type": "code",
   "execution_count": null,
   "id": "ccf0b5eb-30ef-495b-bce4-5989d3e40350",
   "metadata": {},
   "outputs": [],
   "source": [
    "l3 = [3, 100, 4]\n",
    "l3"
   ]
  },
  {
   "cell_type": "code",
   "execution_count": null,
   "id": "1e5ca821-7c32-482e-b3a0-e671317abe3e",
   "metadata": {},
   "outputs": [],
   "source": [
    "l3.sort()"
   ]
  },
  {
   "cell_type": "code",
   "execution_count": null,
   "id": "307b9eff-0bba-43cd-ada2-d79326e986f6",
   "metadata": {},
   "outputs": [],
   "source": [
    "l3"
   ]
  },
  {
   "cell_type": "code",
   "execution_count": null,
   "id": "281ba4be-75d6-43b4-a6be-56c62a46c1ad",
   "metadata": {},
   "outputs": [],
   "source": [
    "l3.sort(reverse = True)"
   ]
  },
  {
   "cell_type": "code",
   "execution_count": null,
   "id": "6f1a2d4f-bd5c-4e79-8372-ea8c18cf45ba",
   "metadata": {},
   "outputs": [],
   "source": [
    "l3"
   ]
  },
  {
   "cell_type": "code",
   "execution_count": null,
   "id": "899d3d8d-2024-4d5c-8c68-01cb06521b68",
   "metadata": {},
   "outputs": [],
   "source": [
    "l6 = [3, 5.6, 'a', 1+2j]"
   ]
  },
  {
   "cell_type": "code",
   "execution_count": null,
   "id": "6bbb8331-f3bf-4f5d-a1f9-2423a54bebe1",
   "metadata": {},
   "outputs": [],
   "source": [
    "l6.sort()"
   ]
  },
  {
   "cell_type": "code",
   "execution_count": null,
   "id": "ac97faf9-3c97-458c-8327-879f58a217ab",
   "metadata": {},
   "outputs": [],
   "source": [
    "l5 = ['z', 'm', 'n', 'b']\n",
    "l5"
   ]
  },
  {
   "cell_type": "code",
   "execution_count": null,
   "id": "7799efe4-38fe-42ed-bc23-62f8bb981fb7",
   "metadata": {},
   "outputs": [],
   "source": [
    "l5.sort()"
   ]
  },
  {
   "cell_type": "code",
   "execution_count": null,
   "id": "cf2a2744-e076-48d8-81bc-68d81911e6b9",
   "metadata": {},
   "outputs": [],
   "source": [
    "l5"
   ]
  },
  {
   "cell_type": "code",
   "execution_count": null,
   "id": "993262ec-4c8b-4a51-85d8-36bbc0725459",
   "metadata": {},
   "outputs": [],
   "source": [
    "l1.reverse()"
   ]
  },
  {
   "cell_type": "code",
   "execution_count": null,
   "id": "80694381-d3ce-4c9d-b586-990af793d839",
   "metadata": {},
   "outputs": [],
   "source": [
    "l1"
   ]
  },
  {
   "cell_type": "code",
   "execution_count": null,
   "id": "57494325-2b98-4af1-a101-74f3b487beab",
   "metadata": {},
   "outputs": [],
   "source": [
    "l1.reverse()"
   ]
  },
  {
   "cell_type": "code",
   "execution_count": null,
   "id": "7e938632-f095-4130-b2d7-8fe4bc68df28",
   "metadata": {},
   "outputs": [],
   "source": [
    "l1"
   ]
  },
  {
   "cell_type": "code",
   "execution_count": null,
   "id": "4af3160b-f2a7-49d6-8273-3c730ac0efc3",
   "metadata": {},
   "outputs": [],
   "source": [
    "l"
   ]
  },
  {
   "cell_type": "code",
   "execution_count": null,
   "id": "e0fe8de4-af69-426b-aded-6a1a5d5579de",
   "metadata": {},
   "outputs": [],
   "source": [
    "l[::-1]"
   ]
  },
  {
   "cell_type": "markdown",
   "id": "0af51675-164d-4567-9ac2-4bd0b0e0ae7d",
   "metadata": {},
   "source": [
    "# 5th "
   ]
  },
  {
   "cell_type": "code",
   "execution_count": null,
   "id": "2a84457a-e37a-4de9-a8d9-54d5422a2eb0",
   "metadata": {},
   "outputs": [],
   "source": [
    "print(l)\n",
    "print(l1)\n",
    "print(l2)"
   ]
  },
  {
   "cell_type": "markdown",
   "id": "e8c4cb10-852f-4c51-a658-258bf1b7807a",
   "metadata": {},
   "source": [
    "# strint list slicing ( datatype)"
   ]
  },
  {
   "cell_type": "code",
   "execution_count": null,
   "id": "2a7584c6-3e45-4ae9-beb3-d63df4ab91af",
   "metadata": {},
   "outputs": [],
   "source": [
    "s1 = 'nit'\n",
    "s1"
   ]
  },
  {
   "cell_type": "code",
   "execution_count": null,
   "id": "1189b2af-970f-4ae6-855e-d06323bbe620",
   "metadata": {},
   "outputs": [],
   "source": [
    "s1[0]"
   ]
  },
  {
   "cell_type": "code",
   "execution_count": null,
   "id": "d984ce5f-d841-4691-acaa-10a4b043ab49",
   "metadata": {},
   "outputs": [],
   "source": [
    "s1[1]"
   ]
  },
  {
   "cell_type": "code",
   "execution_count": null,
   "id": "2085249a-9c02-4d3a-9215-da3fa23766c3",
   "metadata": {},
   "outputs": [],
   "source": [
    "s1[2]"
   ]
  },
  {
   "cell_type": "code",
   "execution_count": null,
   "id": "e52c995d-2e5b-4583-ac22-ad8ee127ea20",
   "metadata": {},
   "outputs": [],
   "source": [
    "s1[3]"
   ]
  },
  {
   "cell_type": "code",
   "execution_count": null,
   "id": "28ab15a1-e231-4e97-b434-5b8260f3482c",
   "metadata": {},
   "outputs": [],
   "source": [
    "s1"
   ]
  },
  {
   "cell_type": "code",
   "execution_count": null,
   "id": "4d184eb8-6d3d-4281-89a3-b3e90c344292",
   "metadata": {},
   "outputs": [],
   "source": [
    "for i in s1:\n",
    "    print(i)"
   ]
  },
  {
   "cell_type": "code",
   "execution_count": null,
   "id": "1492ccab-15f2-43a4-887d-80fe59c0b354",
   "metadata": {},
   "outputs": [],
   "source": [
    "s1"
   ]
  },
  {
   "cell_type": "markdown",
   "id": "416a9093-e45f-42fc-8ce3-0e04b136cf26",
   "metadata": {},
   "source": [
    "# list slicing"
   ]
  },
  {
   "cell_type": "code",
   "execution_count": null,
   "id": "a4752c44-d615-4e30-b1e0-02803852e2b5",
   "metadata": {},
   "outputs": [],
   "source": [
    "print(l)"
   ]
  },
  {
   "cell_type": "code",
   "execution_count": null,
   "id": "9d4ae750-4248-44be-ad5a-9d741ed6e213",
   "metadata": {},
   "outputs": [],
   "source": [
    "l[:]"
   ]
  },
  {
   "cell_type": "code",
   "execution_count": null,
   "id": "daf2b0f4-d2b7-486a-b995-9b5593fb03db",
   "metadata": {},
   "outputs": [],
   "source": [
    "l[0:8]"
   ]
  },
  {
   "cell_type": "code",
   "execution_count": null,
   "id": "f573e5a5-b1ac-4caa-84b7-57ee71074b3f",
   "metadata": {},
   "outputs": [],
   "source": [
    "l"
   ]
  },
  {
   "cell_type": "code",
   "execution_count": null,
   "id": "c2d70af5-95ad-421f-bd94-ae1c546d4778",
   "metadata": {},
   "outputs": [],
   "source": [
    "l[3:]"
   ]
  },
  {
   "cell_type": "code",
   "execution_count": null,
   "id": "fe85fff0-29f7-4af9-819c-cb07e709a915",
   "metadata": {},
   "outputs": [],
   "source": [
    "l"
   ]
  },
  {
   "cell_type": "code",
   "execution_count": null,
   "id": "df8498e6-a43e-47d8-b3e9-8d16835eb914",
   "metadata": {},
   "outputs": [],
   "source": [
    "l[:7]"
   ]
  },
  {
   "cell_type": "code",
   "execution_count": null,
   "id": "aa783e63-9dad-457e-9ece-be6f6ca70d86",
   "metadata": {},
   "outputs": [],
   "source": [
    "l"
   ]
  },
  {
   "cell_type": "code",
   "execution_count": null,
   "id": "39a985e2-a6fa-4e73-809e-f9df6b744794",
   "metadata": {},
   "outputs": [],
   "source": [
    "l[0:20:5]"
   ]
  },
  {
   "cell_type": "code",
   "execution_count": null,
   "id": "0f01dcaa-0ad5-4f93-a36c-c12bfeecfb12",
   "metadata": {},
   "outputs": [],
   "source": [
    "l"
   ]
  },
  {
   "cell_type": "code",
   "execution_count": null,
   "id": "35c82904-f961-49a4-bd0f-1f37eb1c3c6d",
   "metadata": {},
   "outputs": [],
   "source": [
    "l[3:10:3]"
   ]
  },
  {
   "cell_type": "code",
   "execution_count": null,
   "id": "a91a40cc-e557-4304-881c-c2fccff635aa",
   "metadata": {},
   "outputs": [],
   "source": [
    "l"
   ]
  },
  {
   "cell_type": "code",
   "execution_count": null,
   "id": "bf1402a5-4f0f-4b42-bca2-9191460c62d1",
   "metadata": {},
   "outputs": [],
   "source": [
    "l[::-1]"
   ]
  },
  {
   "cell_type": "code",
   "execution_count": null,
   "id": "3ecc40a3-8b77-418b-9abf-8e7acb2026b1",
   "metadata": {},
   "outputs": [],
   "source": [
    "l"
   ]
  },
  {
   "cell_type": "code",
   "execution_count": null,
   "id": "4b1104b2-33f7-43c5-8074-3598115c4b35",
   "metadata": {},
   "outputs": [],
   "source": [
    "l[::-2]"
   ]
  },
  {
   "cell_type": "code",
   "execution_count": null,
   "id": "842e77b1-6d63-4310-bdeb-ee8cc1532b4b",
   "metadata": {},
   "outputs": [],
   "source": [
    "l"
   ]
  },
  {
   "cell_type": "code",
   "execution_count": null,
   "id": "08f91c94-826b-4429-a051-71c543c0b331",
   "metadata": {},
   "outputs": [],
   "source": [
    "l[::-3]"
   ]
  },
  {
   "cell_type": "code",
   "execution_count": null,
   "id": "7180987f-8c1a-47b8-a28b-79b032a913e7",
   "metadata": {},
   "outputs": [],
   "source": [
    "l1"
   ]
  },
  {
   "cell_type": "code",
   "execution_count": null,
   "id": "7bfdc48c-7df4-4958-997e-abf41504b356",
   "metadata": {},
   "outputs": [],
   "source": [
    "l1[0]"
   ]
  },
  {
   "cell_type": "code",
   "execution_count": null,
   "id": "94dff2d2-d959-4051-a2d3-dc6316fbc5e6",
   "metadata": {},
   "outputs": [],
   "source": [
    "l1[0] =  45"
   ]
  },
  {
   "cell_type": "code",
   "execution_count": null,
   "id": "3d49bac0-6a0e-4252-964d-1d5839a0b402",
   "metadata": {},
   "outputs": [],
   "source": [
    "l1"
   ]
  },
  {
   "cell_type": "code",
   "execution_count": null,
   "id": "7f80cc2b-deb0-4fd4-a744-a5f64ada8796",
   "metadata": {},
   "outputs": [],
   "source": [
    "l1"
   ]
  },
  {
   "cell_type": "code",
   "execution_count": null,
   "id": "7b6cd45e-e445-4f75-ae31-15edf196d2a7",
   "metadata": {},
   "outputs": [],
   "source": [
    "l1[-1] = 'nit'"
   ]
  },
  {
   "cell_type": "code",
   "execution_count": null,
   "id": "dd7f1e12-6272-4b46-88e4-c782833df0b4",
   "metadata": {},
   "outputs": [],
   "source": [
    "l1"
   ]
  },
  {
   "cell_type": "code",
   "execution_count": null,
   "id": "f9d2e58b-2622-4d14-85a6-f3f6da27fd93",
   "metadata": {},
   "outputs": [],
   "source": [
    "l1[-1][0] # nested slicing"
   ]
  },
  {
   "cell_type": "code",
   "execution_count": null,
   "id": "6d4bda21-0a08-4ddd-aa92-962a4bd22c30",
   "metadata": {},
   "outputs": [],
   "source": [
    "print(l1[-1][0])\n",
    "print(l1[-1][1])\n",
    "print(l1[-1][2])"
   ]
  },
  {
   "cell_type": "code",
   "execution_count": null,
   "id": "997bf508-eec5-43d3-864b-1be2c8b1ba3e",
   "metadata": {},
   "outputs": [],
   "source": [
    "l1"
   ]
  },
  {
   "cell_type": "code",
   "execution_count": null,
   "id": "06e274a7-b6cf-4f77-8b27-01cba9682da1",
   "metadata": {},
   "outputs": [],
   "source": [
    "l2"
   ]
  },
  {
   "cell_type": "code",
   "execution_count": null,
   "id": "961c5b3b-7421-48ac-be77-20619de4096e",
   "metadata": {},
   "outputs": [],
   "source": [
    "len(l2)"
   ]
  },
  {
   "cell_type": "code",
   "execution_count": null,
   "id": "9a175342-d01a-4837-bbbc-21c3c0df04d7",
   "metadata": {},
   "outputs": [],
   "source": [
    "l3 "
   ]
  },
  {
   "cell_type": "code",
   "execution_count": null,
   "id": "c7b6b6ce-33f7-45c3-8bd6-719974fb8d39",
   "metadata": {},
   "outputs": [],
   "source": [
    "l4 = l2 + l3"
   ]
  },
  {
   "cell_type": "code",
   "execution_count": null,
   "id": "6badfcf3-40e5-4f69-9964-735c9487d267",
   "metadata": {},
   "outputs": [],
   "source": [
    "# list membership "
   ]
  },
  {
   "cell_type": "code",
   "execution_count": null,
   "id": "b218facc-2b65-4787-8b6a-b05c4d65e38a",
   "metadata": {},
   "outputs": [],
   "source": [
    "l4"
   ]
  },
  {
   "cell_type": "code",
   "execution_count": null,
   "id": "41b33b1b-fb22-427c-85e2-cde031403fcc",
   "metadata": {},
   "outputs": [],
   "source": [
    "15 in l4"
   ]
  },
  {
   "cell_type": "markdown",
   "id": "463ff6a5-ed46-487a-b81b-c93aa21c97d2",
   "metadata": {},
   "source": [
    "# ENumerate"
   ]
  },
  {
   "cell_type": "code",
   "execution_count": null,
   "id": "cef5405b-421c-489b-bdfa-c1c93dbe9417",
   "metadata": {},
   "outputs": [],
   "source": [
    "l1"
   ]
  },
  {
   "cell_type": "code",
   "execution_count": null,
   "id": "48cbb1bb-dcdf-44f9-8d3b-eab265371b46",
   "metadata": {},
   "outputs": [],
   "source": [
    "for i in l1:\n",
    "    print(i)"
   ]
  },
  {
   "cell_type": "code",
   "execution_count": null,
   "id": "dafc3f20-a117-4b85-865a-6bae5e096b6a",
   "metadata": {},
   "outputs": [],
   "source": [
    "for i in enumerate(l1):\n",
    "    print (i)"
   ]
  },
  {
   "cell_type": "code",
   "execution_count": null,
   "id": "6128b612-ac54-4eed-aa58-86fc214b1537",
   "metadata": {},
   "outputs": [],
   "source": [
    "l1"
   ]
  },
  {
   "cell_type": "code",
   "execution_count": null,
   "id": "1e56380e-ba81-4366-acd3-1ea0f9d5edc7",
   "metadata": {},
   "outputs": [],
   "source": [
    "l3"
   ]
  },
  {
   "cell_type": "code",
   "execution_count": null,
   "id": "9dbc746a-4e72-4cc1-8b3d-a180f97c0c0a",
   "metadata": {},
   "outputs": [],
   "source": [
    "all(l3)"
   ]
  },
  {
   "cell_type": "code",
   "execution_count": null,
   "id": "20f6e45a-ea5b-4925-afd8-e2fa4c6114fa",
   "metadata": {},
   "outputs": [],
   "source": [
    "any(l3)"
   ]
  },
  {
   "cell_type": "markdown",
   "id": "cfe706e9-45cc-4d10-a945-b89e81fc3504",
   "metadata": {},
   "source": [
    "l3.append(0)\n",
    "l3"
   ]
  },
  {
   "cell_type": "code",
   "execution_count": null,
   "id": "211b3539-7665-45cb-875f-4a6f675b36b9",
   "metadata": {},
   "outputs": [],
   "source": [
    "all(l3)"
   ]
  },
  {
   "cell_type": "code",
   "execution_count": null,
   "id": "3ac06b41-33e6-482f-ae92-a2577c1fceee",
   "metadata": {},
   "outputs": [],
   "source": [
    "any(l3)"
   ]
  },
  {
   "cell_type": "markdown",
   "id": "d0d4aa55-ca67-444f-91e2-2779540e01c6",
   "metadata": {},
   "source": [
    "# list completed"
   ]
  },
  {
   "cell_type": "markdown",
   "id": "f37c44d9-e5ca-4560-893d-aeb7782b6f23",
   "metadata": {},
   "source": [
    "# 6th  mar"
   ]
  },
  {
   "cell_type": "code",
   "execution_count": null,
   "id": "a054f003-0a51-421d-918d-b9d16c740a4e",
   "metadata": {},
   "outputs": [],
   "source": [
    "t = () \n",
    "t"
   ]
  },
  {
   "cell_type": "code",
   "execution_count": null,
   "id": "0ca88820-b021-4d0c-ae54-76b62255a13b",
   "metadata": {},
   "outputs": [],
   "source": [
    "print(type(t))"
   ]
  },
  {
   "cell_type": "code",
   "execution_count": null,
   "id": "a709456e-922e-449d-abe1-bae366a1672e",
   "metadata": {},
   "outputs": [],
   "source": [
    "t1 = (10,20,30,40,40) \n",
    "t1"
   ]
  },
  {
   "cell_type": "code",
   "execution_count": null,
   "id": "7bd69d24-9bb5-4491-b9ac-20d27acd5768",
   "metadata": {},
   "outputs": [],
   "source": [
    "len(t1)"
   ]
  },
  {
   "cell_type": "code",
   "execution_count": null,
   "id": "9623f0ae-abed-46e2-9916-9e134bd95a5f",
   "metadata": {},
   "outputs": [],
   "source": [
    "t1.count(10)"
   ]
  },
  {
   "cell_type": "code",
   "execution_count": null,
   "id": "c803f4a1-4516-412d-b037-0f14e5d561d6",
   "metadata": {},
   "outputs": [],
   "source": [
    "t1.count(40)"
   ]
  },
  {
   "cell_type": "code",
   "execution_count": null,
   "id": "63246c11-a2ab-48e6-8d08-0bdf9939067e",
   "metadata": {},
   "outputs": [],
   "source": [
    "t1"
   ]
  },
  {
   "cell_type": "code",
   "execution_count": null,
   "id": "cf7c222f-1962-4430-b67d-8cec767b76c5",
   "metadata": {},
   "outputs": [],
   "source": [
    "t1.index(20)"
   ]
  },
  {
   "cell_type": "code",
   "execution_count": null,
   "id": "0661c2a7-90b5-4b68-9e9c-b2cd1052ccfb",
   "metadata": {},
   "outputs": [],
   "source": [
    "l5 = ['a', 'b', 'c', 'd']\n",
    "l5"
   ]
  },
  {
   "cell_type": "code",
   "execution_count": null,
   "id": "2f817473-bfb8-4dc0-b6eb-6e956d520b1e",
   "metadata": {},
   "outputs": [],
   "source": [
    "l5[1] = 10"
   ]
  },
  {
   "cell_type": "code",
   "execution_count": null,
   "id": "2d0dba49-343c-483b-a199-a4f5982dc5f3",
   "metadata": {},
   "outputs": [],
   "source": [
    "l5"
   ]
  },
  {
   "cell_type": "code",
   "execution_count": null,
   "id": "6fdfb93a-3dbc-422b-ba19-63fed2c1e610",
   "metadata": {},
   "outputs": [],
   "source": [
    "t2 = (100, 3.4, 'nit', True, 1+2j, [1,2,3], (5,6,7))\n",
    "t2"
   ]
  },
  {
   "cell_type": "code",
   "execution_count": null,
   "id": "c14c1800-ffef-49af-b791-0e5ec72b59a2",
   "metadata": {},
   "outputs": [],
   "source": [
    "print(t)\n",
    "print(t1)\n",
    "print(t2)"
   ]
  },
  {
   "cell_type": "code",
   "execution_count": null,
   "id": "efeab310-1970-4ea7-b621-7ede45388504",
   "metadata": {},
   "outputs": [],
   "source": [
    "t1"
   ]
  },
  {
   "cell_type": "code",
   "execution_count": null,
   "id": "395c38b5-5771-4251-b0c4-92440f9be828",
   "metadata": {},
   "outputs": [],
   "source": [
    "t1[0]"
   ]
  },
  {
   "cell_type": "code",
   "execution_count": null,
   "id": "4f558f82-1f3d-4fd5-b23a-599212d0da1f",
   "metadata": {},
   "outputs": [],
   "source": [
    "t1[0] = 1000\n",
    "t1"
   ]
  },
  {
   "cell_type": "code",
   "execution_count": null,
   "id": "8cbe8fe0-945a-4fe8-bcf4-19f302f76df7",
   "metadata": {},
   "outputs": [],
   "source": [
    "icici = (45678, 'cizps7789', 332000, 98765)\n",
    "icici"
   ]
  },
  {
   "cell_type": "code",
   "execution_count": null,
   "id": "6566d4cc-b361-4370-a6bf-ba11b5dc673e",
   "metadata": {},
   "outputs": [],
   "source": [
    "icici[0] = 1234\n",
    "icici"
   ]
  },
  {
   "cell_type": "code",
   "execution_count": null,
   "id": "608e3c1e-f0d4-43d9-bd79-8654c6f37ad6",
   "metadata": {},
   "outputs": [],
   "source": [
    "t1"
   ]
  },
  {
   "cell_type": "code",
   "execution_count": null,
   "id": "c7dccffa-9872-45ef-b0b6-0734fdd5ef57",
   "metadata": {},
   "outputs": [],
   "source": [
    "t4 = t1 * 3\n",
    "t4"
   ]
  },
  {
   "cell_type": "code",
   "execution_count": null,
   "id": "ef85640c-370c-4d70-b422-3d16b05dd6a9",
   "metadata": {},
   "outputs": [],
   "source": [
    "t4"
   ]
  },
  {
   "cell_type": "code",
   "execution_count": null,
   "id": "98596dff-8679-4f60-abd4-3bc12b936b0a",
   "metadata": {},
   "outputs": [],
   "source": [
    "t4[:]"
   ]
  },
  {
   "cell_type": "code",
   "execution_count": null,
   "id": "7aca9a65-bff2-4bde-b4b4-425f827a368d",
   "metadata": {},
   "outputs": [],
   "source": [
    "t1"
   ]
  },
  {
   "cell_type": "code",
   "execution_count": null,
   "id": "8acdb268-0b48-4f9c-844d-9786ae8bc1c5",
   "metadata": {},
   "outputs": [],
   "source": [
    "t1[:7]"
   ]
  },
  {
   "cell_type": "code",
   "execution_count": null,
   "id": "189c6a61-ac5c-40cc-9133-34cdbff1e82a",
   "metadata": {},
   "outputs": [],
   "source": [
    "t1[2:]"
   ]
  },
  {
   "cell_type": "code",
   "execution_count": null,
   "id": "b06b0303-6276-4f7c-abae-45b270543504",
   "metadata": {},
   "outputs": [],
   "source": [
    "t1"
   ]
  },
  {
   "cell_type": "code",
   "execution_count": null,
   "id": "e7933a7d-c3e0-45f5-b848-5c50965f30b1",
   "metadata": {},
   "outputs": [],
   "source": [
    "t1[0]"
   ]
  },
  {
   "cell_type": "code",
   "execution_count": null,
   "id": "562b3896-6ed6-41a7-88b1-92fd4a756a7f",
   "metadata": {},
   "outputs": [],
   "source": [
    "t1[0:10:2]"
   ]
  },
  {
   "cell_type": "code",
   "execution_count": null,
   "id": "fa373e38-1251-400f-8455-91200964e34b",
   "metadata": {},
   "outputs": [],
   "source": [
    "t1.add(30)"
   ]
  },
  {
   "cell_type": "code",
   "execution_count": null,
   "id": "fe09d71b-a54b-45b4-9495-77e95e02cf62",
   "metadata": {},
   "outputs": [],
   "source": [
    "t2"
   ]
  },
  {
   "cell_type": "code",
   "execution_count": null,
   "id": "fc01bdcd-3876-497c-90c8-6937b26bbcf8",
   "metadata": {},
   "outputs": [],
   "source": [
    "t2.index('nit')"
   ]
  },
  {
   "cell_type": "markdown",
   "id": "0231383f-b87e-40fa-bd1a-50e403a84976",
   "metadata": {},
   "source": [
    "# tuple is completed"
   ]
  },
  {
   "cell_type": "code",
   "execution_count": null,
   "id": "b7b1cf74-a264-453a-a68b-bacb91d388fe",
   "metadata": {},
   "outputs": [],
   "source": [
    "x = 5\n",
    "y = 2\n",
    "print(x / y)\n",
    "print(x//y)"
   ]
  },
  {
   "cell_type": "code",
   "execution_count": null,
   "id": "c4dfaf70-4c74-4065-a4ca-4fc9bc7decec",
   "metadata": {},
   "outputs": [],
   "source": [
    "for i in t1:\n",
    "    print(i)"
   ]
  },
  {
   "cell_type": "code",
   "execution_count": null,
   "id": "d0ba9b01-3b3e-402e-a56a-30c2bfda87fa",
   "metadata": {},
   "outputs": [],
   "source": [
    "for i in enumerate(t1):\n",
    "    print(i)"
   ]
  },
  {
   "cell_type": "markdown",
   "id": "7be47201-bdc9-4a04-86f3-601d11a543bd",
   "metadata": {},
   "source": [
    "# 7th"
   ]
  },
  {
   "cell_type": "markdown",
   "id": "aafe8214-794f-4b7b-9189-dba1aa257bbe",
   "metadata": {},
   "source": [
    "# set "
   ]
  },
  {
   "cell_type": "code",
   "execution_count": null,
   "id": "89d9026a-2cb4-405f-bb95-6f7c0ffb477c",
   "metadata": {},
   "outputs": [],
   "source": [
    "s = { }\n",
    "s"
   ]
  },
  {
   "cell_type": "code",
   "execution_count": null,
   "id": "8ae840bd-f43b-4f7b-8309-2da844e60c27",
   "metadata": {},
   "outputs": [],
   "source": [
    "type(s)"
   ]
  },
  {
   "cell_type": "code",
   "execution_count": null,
   "id": "8db57347-77da-4985-95fc-c91c4fd080f9",
   "metadata": {},
   "outputs": [],
   "source": [
    "s1 = set()\n",
    "type(s1)"
   ]
  },
  {
   "cell_type": "code",
   "execution_count": null,
   "id": "c554bc34-10e1-46d2-8458-babad0d43f6e",
   "metadata": {},
   "outputs": [],
   "source": [
    "s1"
   ]
  },
  {
   "cell_type": "code",
   "execution_count": null,
   "id": "61a34456-a537-4ec8-9912-e4e86cbd6b74",
   "metadata": {},
   "outputs": [],
   "source": [
    "s2 = {20, 100, 3, 45}\n",
    "s2"
   ]
  },
  {
   "cell_type": "code",
   "execution_count": null,
   "id": "a6810462-a342-4783-8800-ff5567ad0bb7",
   "metadata": {},
   "outputs": [],
   "source": [
    "s3 = {'z', 'l', 'c', 'e', 'f'}\n",
    "s3"
   ]
  },
  {
   "cell_type": "code",
   "execution_count": null,
   "id": "1ce50e55-07c6-4c62-bade-16cc1190554c",
   "metadata": {},
   "outputs": [],
   "source": [
    "s4 = {1, 2.3, 'nit', 1+2j, [1,2,3], (4,5,6), True}\n",
    "s4"
   ]
  },
  {
   "cell_type": "code",
   "execution_count": null,
   "id": "f28a9297-b0ab-4a4c-8a4c-2e5587df10dd",
   "metadata": {},
   "outputs": [],
   "source": [
    "s5 = {2, 3.4, 'nit', 1+2j, False}"
   ]
  },
  {
   "cell_type": "code",
   "execution_count": null,
   "id": "f1ad232e-a116-4092-b8bf-877c7dbe71f2",
   "metadata": {},
   "outputs": [],
   "source": [
    "s5"
   ]
  },
  {
   "cell_type": "code",
   "execution_count": null,
   "id": "c5d9ae90-c7d7-4ffd-9c88-65f491dfd9cc",
   "metadata": {},
   "outputs": [],
   "source": [
    "print(s1)\n",
    "print(s2)\n",
    "print(s3)\n",
    "print(s5)"
   ]
  },
  {
   "cell_type": "code",
   "execution_count": null,
   "id": "c71b35b8-78cc-4ccf-a8f7-8eb074300e22",
   "metadata": {},
   "outputs": [],
   "source": [
    "s2"
   ]
  },
  {
   "cell_type": "code",
   "execution_count": null,
   "id": "81c4d368-5628-4ccb-b5d3-77e4c8ce25e8",
   "metadata": {},
   "outputs": [],
   "source": [
    "s2.add(30)"
   ]
  },
  {
   "cell_type": "code",
   "execution_count": null,
   "id": "d849701a-4afc-4db5-a1cd-2c44c8c08ab2",
   "metadata": {},
   "outputs": [],
   "source": [
    "s2"
   ]
  },
  {
   "cell_type": "code",
   "execution_count": null,
   "id": "fe19fec7-96e3-4412-a446-0cb16e974f6d",
   "metadata": {},
   "outputs": [],
   "source": [
    "s2.add(200)"
   ]
  },
  {
   "cell_type": "code",
   "execution_count": null,
   "id": "c530e065-b93b-4759-8612-66c00e712d25",
   "metadata": {},
   "outputs": [],
   "source": [
    "s2"
   ]
  },
  {
   "cell_type": "code",
   "execution_count": null,
   "id": "aaad676b-1b6b-4074-b385-b8e785fd4f34",
   "metadata": {},
   "outputs": [],
   "source": [
    "s2"
   ]
  },
  {
   "cell_type": "code",
   "execution_count": null,
   "id": "4b387fe4-a74d-4829-9e1f-113a73d05027",
   "metadata": {},
   "outputs": [],
   "source": [
    "s2[:]"
   ]
  },
  {
   "cell_type": "code",
   "execution_count": null,
   "id": "28d91e02-ac4f-4c79-af08-c95a3ee77150",
   "metadata": {},
   "outputs": [],
   "source": [
    "s2"
   ]
  },
  {
   "cell_type": "code",
   "execution_count": null,
   "id": "c98385b6-d376-4f9c-a60c-04d97819a7dd",
   "metadata": {},
   "outputs": [],
   "source": [
    "s2[1:5]"
   ]
  },
  {
   "cell_type": "code",
   "execution_count": null,
   "id": "a03e1502-46f6-4bff-913a-c1e143f5ca1a",
   "metadata": {},
   "outputs": [],
   "source": [
    "s5"
   ]
  },
  {
   "cell_type": "code",
   "execution_count": null,
   "id": "9272eb2f-28c0-4f6e-94e5-da032c2c64e0",
   "metadata": {},
   "outputs": [],
   "source": [
    "s4 = s5.copy()\n",
    "s4"
   ]
  },
  {
   "cell_type": "code",
   "execution_count": null,
   "id": "b7b5a057-28f8-4603-811e-a1b1e6d9fe07",
   "metadata": {},
   "outputs": [],
   "source": [
    "s4"
   ]
  },
  {
   "cell_type": "code",
   "execution_count": null,
   "id": "53c872dd-fc7c-492a-86e5-9060f8ef330b",
   "metadata": {},
   "outputs": [],
   "source": [
    "s4.add(2)"
   ]
  },
  {
   "cell_type": "code",
   "execution_count": null,
   "id": "334fc979-9c14-440f-9685-d7ed4fab6378",
   "metadata": {},
   "outputs": [],
   "source": [
    "s4"
   ]
  },
  {
   "cell_type": "code",
   "execution_count": null,
   "id": "6fe9d5f9-5664-41b2-b7d8-0ebd761a31f0",
   "metadata": {},
   "outputs": [],
   "source": [
    "s5"
   ]
  },
  {
   "cell_type": "code",
   "execution_count": null,
   "id": "eb092aea-16fa-4a57-8be0-e51ebf31c0b4",
   "metadata": {},
   "outputs": [],
   "source": [
    "s5.clear()"
   ]
  },
  {
   "cell_type": "code",
   "execution_count": null,
   "id": "8fc3d35b-b1b1-4afc-9e09-7de43703a4b1",
   "metadata": {},
   "outputs": [],
   "source": [
    "s5"
   ]
  },
  {
   "cell_type": "code",
   "execution_count": null,
   "id": "ff28573d-5fc9-46b7-bc16-ae5eca9026d7",
   "metadata": {},
   "outputs": [],
   "source": [
    "del s5"
   ]
  },
  {
   "cell_type": "code",
   "execution_count": null,
   "id": "6e73e21e-9581-4943-8e2e-6acd5e1cc94f",
   "metadata": {},
   "outputs": [],
   "source": [
    "s4"
   ]
  },
  {
   "cell_type": "code",
   "execution_count": null,
   "id": "b6ae5498-b146-43c2-9deb-c632430e79d1",
   "metadata": {},
   "outputs": [],
   "source": [
    "s4.remove((1+2j))"
   ]
  },
  {
   "cell_type": "code",
   "execution_count": null,
   "id": "c8d483aa-5c14-406e-b5c1-619a44659e36",
   "metadata": {},
   "outputs": [],
   "source": [
    "s4"
   ]
  },
  {
   "cell_type": "code",
   "execution_count": null,
   "id": "2bba5d6f-9bd6-48ad-87c8-43e38739960d",
   "metadata": {},
   "outputs": [],
   "source": [
    "s3"
   ]
  },
  {
   "cell_type": "code",
   "execution_count": null,
   "id": "e38a36e7-814c-4292-94fe-b461688b2d86",
   "metadata": {},
   "outputs": [],
   "source": [
    "s3.discard('m')"
   ]
  },
  {
   "cell_type": "code",
   "execution_count": null,
   "id": "57e81987-0a42-45ea-98da-0727b4b65489",
   "metadata": {},
   "outputs": [],
   "source": [
    "s3.remove('m')"
   ]
  },
  {
   "cell_type": "code",
   "execution_count": null,
   "id": "5c8094a4-23d3-42d6-b012-493892977ab7",
   "metadata": {},
   "outputs": [],
   "source": [
    "s3"
   ]
  },
  {
   "cell_type": "code",
   "execution_count": null,
   "id": "a14d3481-0aa0-455a-9d9b-fc02d5ee7c79",
   "metadata": {},
   "outputs": [],
   "source": [
    "s3.discard('f')\n",
    "s3"
   ]
  },
  {
   "cell_type": "code",
   "execution_count": null,
   "id": "0762ed50-faa7-421d-ad17-ffda1aa80349",
   "metadata": {},
   "outputs": [],
   "source": [
    "s3"
   ]
  },
  {
   "cell_type": "code",
   "execution_count": null,
   "id": "cefcc88b-2066-4ef9-b0d5-ac6e5689029c",
   "metadata": {},
   "outputs": [],
   "source": [
    "s3.pop()"
   ]
  },
  {
   "cell_type": "code",
   "execution_count": null,
   "id": "b7042b13-b695-4b0a-bd4d-9745b2f80d02",
   "metadata": {},
   "outputs": [],
   "source": [
    "s3"
   ]
  },
  {
   "cell_type": "code",
   "execution_count": null,
   "id": "8dda1142-1bcc-4d42-ac56-d0f185b480f7",
   "metadata": {},
   "outputs": [],
   "source": [
    "s2"
   ]
  },
  {
   "cell_type": "code",
   "execution_count": null,
   "id": "70316c8a-0e49-48bc-baf3-5f21247ac9cc",
   "metadata": {},
   "outputs": [],
   "source": [
    "s2.pop(3)"
   ]
  },
  {
   "cell_type": "code",
   "execution_count": null,
   "id": "15284060-ca87-4849-b70f-dd663642cd4e",
   "metadata": {},
   "outputs": [],
   "source": [
    "s2.pop()"
   ]
  },
  {
   "cell_type": "code",
   "execution_count": null,
   "id": "bbd68821-b916-4a9f-9280-6a670bcecb99",
   "metadata": {},
   "outputs": [],
   "source": [
    "for i in s2:\n",
    "    print(i)"
   ]
  },
  {
   "cell_type": "code",
   "execution_count": null,
   "id": "7379c9a3-f41d-497b-95a3-73e6c2d0c1d7",
   "metadata": {},
   "outputs": [],
   "source": [
    "for i in enumerate(s2):\n",
    "    print(i)"
   ]
  },
  {
   "cell_type": "code",
   "execution_count": null,
   "id": "a73d09ea-9af9-4cab-b612-5a0aa8100c14",
   "metadata": {},
   "outputs": [],
   "source": [
    "s2"
   ]
  },
  {
   "cell_type": "code",
   "execution_count": null,
   "id": "136192bc-a1af-44e2-b425-229f5a3b06ea",
   "metadata": {},
   "outputs": [],
   "source": [
    "5 in s2"
   ]
  },
  {
   "cell_type": "code",
   "execution_count": null,
   "id": "3fbd4608-3fdb-4d4e-b6a2-b876656decfa",
   "metadata": {},
   "outputs": [],
   "source": [
    "45 in s2"
   ]
  },
  {
   "cell_type": "code",
   "execution_count": null,
   "id": "07529a20-9ab4-4a49-84e8-62248778502b",
   "metadata": {},
   "outputs": [],
   "source": [
    "s2"
   ]
  },
  {
   "cell_type": "code",
   "execution_count": null,
   "id": "ca34da91-8d36-4a5f-9e99-1a11c5ac12fa",
   "metadata": {},
   "outputs": [],
   "source": [
    "s3"
   ]
  },
  {
   "cell_type": "code",
   "execution_count": null,
   "id": "98eb4bcd-f357-4965-8e00-30ac3d93b17e",
   "metadata": {},
   "outputs": [],
   "source": [
    "s2.update(s3)"
   ]
  },
  {
   "cell_type": "code",
   "execution_count": null,
   "id": "6e6f090c-79db-49c1-b9c4-8e0b377ca383",
   "metadata": {},
   "outputs": [],
   "source": [
    "s2"
   ]
  },
  {
   "cell_type": "markdown",
   "id": "fb3cf205-df6e-4441-af42-8dfe117d050e",
   "metadata": {},
   "source": [
    "# SET OPERATION "
   ]
  },
  {
   "cell_type": "code",
   "execution_count": null,
   "id": "d9fea3b1-efea-45d1-9949-654d330a9cbe",
   "metadata": {},
   "outputs": [],
   "source": [
    "s6 = {1,2,3,4,5}\n",
    "s7 = {4,5,6,7,8}\n",
    "s8 = {8,9,10}"
   ]
  },
  {
   "cell_type": "code",
   "execution_count": null,
   "id": "d56c078a-c1f1-4e44-ab7d-abb698d1cd32",
   "metadata": {},
   "outputs": [],
   "source": [
    "s6.union(s7)"
   ]
  },
  {
   "cell_type": "code",
   "execution_count": null,
   "id": "daa07b34-709b-4447-909c-dc9ad93cf847",
   "metadata": {},
   "outputs": [],
   "source": [
    "s6.union(s7, s8)"
   ]
  },
  {
   "cell_type": "code",
   "execution_count": null,
   "id": "56108b2c-8378-4007-b1c0-143b344566ec",
   "metadata": {},
   "outputs": [],
   "source": [
    "s6 | s7"
   ]
  },
  {
   "cell_type": "code",
   "execution_count": null,
   "id": "6f5c562e-1517-47f6-af6a-206ba410c4c5",
   "metadata": {},
   "outputs": [],
   "source": [
    "s6 | s7 | s8"
   ]
  },
  {
   "cell_type": "code",
   "execution_count": null,
   "id": "c9f53851-7b1f-40f7-99a5-a9d5939aecfe",
   "metadata": {},
   "outputs": [],
   "source": [
    "print(s6)\n",
    "print(s7)\n",
    "print(s8)"
   ]
  },
  {
   "cell_type": "code",
   "execution_count": null,
   "id": "74dd7db7-008c-48ae-8da5-b9f30ba9aea8",
   "metadata": {},
   "outputs": [],
   "source": [
    "s6.intersection(s7)"
   ]
  },
  {
   "cell_type": "code",
   "execution_count": null,
   "id": "28279fd6-d95b-44d3-a152-04d4f657bb30",
   "metadata": {},
   "outputs": [],
   "source": [
    "s6.intersection(s8)"
   ]
  },
  {
   "cell_type": "code",
   "execution_count": null,
   "id": "b23ad83e-1df5-4cc6-bbb2-6d1e25288354",
   "metadata": {},
   "outputs": [],
   "source": [
    "s7.intersection(s8)"
   ]
  },
  {
   "cell_type": "code",
   "execution_count": null,
   "id": "c678d8ac-b656-4bae-a3d8-b5e8e541755c",
   "metadata": {},
   "outputs": [],
   "source": [
    "s6 & s7"
   ]
  },
  {
   "cell_type": "code",
   "execution_count": null,
   "id": "85746e0a-0ae8-42c9-a5cc-5e31b9d052d1",
   "metadata": {},
   "outputs": [],
   "source": [
    "print(s6)\n",
    "print(s7)\n",
    "print(s8)"
   ]
  },
  {
   "cell_type": "code",
   "execution_count": null,
   "id": "6427bde8-7053-4feb-a67d-1a9c120882ca",
   "metadata": {},
   "outputs": [],
   "source": [
    "s6.difference(s7)"
   ]
  },
  {
   "cell_type": "code",
   "execution_count": null,
   "id": "bdc9afbd-efae-4d49-a19d-2d6ae4d599f5",
   "metadata": {},
   "outputs": [],
   "source": [
    "s6 - s7"
   ]
  },
  {
   "cell_type": "code",
   "execution_count": null,
   "id": "89478729-e120-4417-99e3-d4dfa8ed826f",
   "metadata": {},
   "outputs": [],
   "source": [
    "s7 - s8"
   ]
  },
  {
   "cell_type": "code",
   "execution_count": null,
   "id": "a6465d02-1e6f-4384-8048-ef871f83e30b",
   "metadata": {},
   "outputs": [],
   "source": [
    "print(s6)\n",
    "print(s7)\n",
    "print(s8)"
   ]
  },
  {
   "cell_type": "code",
   "execution_count": null,
   "id": "696fd465-5a33-46eb-8751-36b73e8ec6ed",
   "metadata": {},
   "outputs": [],
   "source": [
    "s8 - s7"
   ]
  },
  {
   "cell_type": "code",
   "execution_count": null,
   "id": "22d13b35-fd27-457a-9fc8-da7945cef472",
   "metadata": {},
   "outputs": [],
   "source": [
    "print(s6)\n",
    "print(s7)\n",
    "print(s8)"
   ]
  },
  {
   "cell_type": "code",
   "execution_count": null,
   "id": "791bb13a-b152-4744-ae12-ada3a9230fdb",
   "metadata": {},
   "outputs": [],
   "source": [
    "s6.symmetric_difference(s7)"
   ]
  },
  {
   "cell_type": "code",
   "execution_count": null,
   "id": "0eed4825-2ea9-48de-8de6-0d21fe8f782c",
   "metadata": {},
   "outputs": [],
   "source": [
    "s10 = {50, 4, 3, 10}\n",
    "s10"
   ]
  },
  {
   "cell_type": "code",
   "execution_count": null,
   "id": "8bbc264f-9f54-44c3-b517-839ab0a08754",
   "metadata": {},
   "outputs": [],
   "source": [
    "print(s10)"
   ]
  },
  {
   "cell_type": "code",
   "execution_count": null,
   "id": "7e9b9079-e80c-4087-b5bf-8d2acbee473e",
   "metadata": {},
   "outputs": [],
   "source": [
    "print(s10)"
   ]
  },
  {
   "cell_type": "markdown",
   "id": "c3ceb938-8f02-4783-bbe8-0f3bc4cbe3e8",
   "metadata": {},
   "source": [
    "# 10th\n",
    "- superset\n",
    "- subset\n",
    "- disjoint"
   ]
  },
  {
   "cell_type": "code",
   "execution_count": null,
   "id": "69064eb3-f868-4a52-8639-131f0a4d9f7a",
   "metadata": {},
   "outputs": [],
   "source": [
    "s11 = {1,2,3,4,5,6,7,8,9} \n",
    "s12 = {3,4,5,6,7,8}\n",
    "s13 = {10,20,30,40}"
   ]
  },
  {
   "cell_type": "code",
   "execution_count": null,
   "id": "72ae04b8-f47f-49d1-9bde-35c22cd2125c",
   "metadata": {},
   "outputs": [],
   "source": [
    "s12.issubset(s11)"
   ]
  },
  {
   "cell_type": "code",
   "execution_count": null,
   "id": "2541ac36-aee3-482d-9054-aa7336b5d463",
   "metadata": {},
   "outputs": [],
   "source": [
    "s11.issubset(s12)"
   ]
  },
  {
   "cell_type": "code",
   "execution_count": null,
   "id": "0d261e7c-4949-4fcf-9b9c-e814a8f332cf",
   "metadata": {},
   "outputs": [],
   "source": [
    "s11.issuperset(s12)"
   ]
  },
  {
   "cell_type": "code",
   "execution_count": null,
   "id": "1d036dcb-1b0c-4d73-9075-5dd8b55ef88e",
   "metadata": {},
   "outputs": [],
   "source": [
    "s11 = {1,2,3,4,5,6,7,8,9} \n",
    "s12 = {3,4,5,6,7,8}\n",
    "s13 = {10,20,30,40}"
   ]
  },
  {
   "cell_type": "code",
   "execution_count": null,
   "id": "f6377125-1bc5-4c3d-bea4-df9a225fbf98",
   "metadata": {},
   "outputs": [],
   "source": [
    "s13.isdisjoint(s12)"
   ]
  },
  {
   "cell_type": "code",
   "execution_count": null,
   "id": "24dbd682-ad33-488a-a46b-2f7b435545df",
   "metadata": {},
   "outputs": [],
   "source": [
    "s13.isdisjoint(s11)"
   ]
  },
  {
   "cell_type": "code",
   "execution_count": null,
   "id": "e8bce8e3-3dc0-4c59-bfec-c7f5da00ab3b",
   "metadata": {},
   "outputs": [],
   "source": [
    "s12 = {1,2,3,4,5}\n",
    "s13 = {10,20,30}\n",
    "s14 = {15,25,35}"
   ]
  },
  {
   "cell_type": "code",
   "execution_count": null,
   "id": "3fd45cd5-b8e5-4e6d-9e26-01811198af24",
   "metadata": {},
   "outputs": [],
   "source": [
    "s13.issubset(s12)"
   ]
  },
  {
   "cell_type": "code",
   "execution_count": null,
   "id": "f3c612fa-b906-4ba5-8f18-bc679cd3b034",
   "metadata": {},
   "outputs": [],
   "source": [
    "s12.issuperset(s13)"
   ]
  },
  {
   "cell_type": "code",
   "execution_count": null,
   "id": "a4e5b35e-1e10-455b-8443-836e96dcdc63",
   "metadata": {},
   "outputs": [],
   "source": [
    "s14.isdisjoint(s12)"
   ]
  },
  {
   "cell_type": "code",
   "execution_count": null,
   "id": "30a47fc8-9115-42d2-98ad-830fa7ef5ee3",
   "metadata": {},
   "outputs": [],
   "source": [
    "s14.isdisjoint(s13)"
   ]
  },
  {
   "cell_type": "code",
   "execution_count": 3,
   "id": "ded09752-0ce8-444e-93de-dbe6418d4756",
   "metadata": {},
   "outputs": [],
   "source": [
    "s15 = {1,2,3,4,5,6}\n",
    "s16 = {4,5,6} \n",
    "s17 = {10,20}"
   ]
  },
  {
   "cell_type": "code",
   "execution_count": 4,
   "id": "215f7fb1-e697-40f8-bdd1-9e85d25704f2",
   "metadata": {},
   "outputs": [
    {
     "data": {
      "text/plain": [
       "True"
      ]
     },
     "execution_count": 4,
     "metadata": {},
     "output_type": "execute_result"
    }
   ],
   "source": [
    "s16.issubset(s15)"
   ]
  },
  {
   "cell_type": "code",
   "execution_count": 5,
   "id": "b4a0be79-a3bc-42e8-8441-66a736408a01",
   "metadata": {},
   "outputs": [
    {
     "data": {
      "text/plain": [
       "True"
      ]
     },
     "execution_count": 5,
     "metadata": {},
     "output_type": "execute_result"
    }
   ],
   "source": [
    "s17.isdisjoint(s15)"
   ]
  },
  {
   "cell_type": "code",
   "execution_count": 6,
   "id": "589ce3b0-4c0d-4730-acbc-879b0d59d85d",
   "metadata": {},
   "outputs": [
    {
     "data": {
      "text/plain": [
       "True"
      ]
     },
     "execution_count": 6,
     "metadata": {},
     "output_type": "execute_result"
    }
   ],
   "source": [
    "s17.isdisjoint(s16)"
   ]
  },
  {
   "cell_type": "code",
   "execution_count": 8,
   "id": "08b5eaf7-bd0e-4a17-884d-5ffbcb01b14d",
   "metadata": {},
   "outputs": [
    {
     "data": {
      "text/plain": [
       "{1, 2, 3, 4, 5, 6}"
      ]
     },
     "execution_count": 8,
     "metadata": {},
     "output_type": "execute_result"
    }
   ],
   "source": [
    "s15"
   ]
  },
  {
   "cell_type": "code",
   "execution_count": 9,
   "id": "730ec3c1-8078-4e45-b7b4-c44709c0c29d",
   "metadata": {},
   "outputs": [
    {
     "name": "stdout",
     "output_type": "stream",
     "text": [
      "1\n",
      "2\n",
      "3\n",
      "4\n",
      "5\n",
      "6\n"
     ]
    }
   ],
   "source": [
    "for i in s15:\n",
    "    print(i)"
   ]
  },
  {
   "cell_type": "code",
   "execution_count": 10,
   "id": "8a3298c6-63bf-4ec0-8407-c048e4543e35",
   "metadata": {},
   "outputs": [
    {
     "name": "stdout",
     "output_type": "stream",
     "text": [
      "(0, 1)\n",
      "(1, 2)\n",
      "(2, 3)\n",
      "(3, 4)\n",
      "(4, 5)\n",
      "(5, 6)\n"
     ]
    }
   ],
   "source": [
    "for i in enumerate(s15):\n",
    "    print(i)"
   ]
  },
  {
   "cell_type": "code",
   "execution_count": 12,
   "id": "de8ddb9c-29b0-4e37-b288-da5f39504cb6",
   "metadata": {},
   "outputs": [
    {
     "data": {
      "text/plain": [
       "{1, 2, 3, 4, 5, 6}"
      ]
     },
     "execution_count": 12,
     "metadata": {},
     "output_type": "execute_result"
    }
   ],
   "source": [
    "s15"
   ]
  },
  {
   "cell_type": "code",
   "execution_count": 13,
   "id": "808f440f-d14e-4957-9240-27024d89d981",
   "metadata": {},
   "outputs": [
    {
     "data": {
      "text/plain": [
       "21"
      ]
     },
     "execution_count": 13,
     "metadata": {},
     "output_type": "execute_result"
    }
   ],
   "source": [
    "sum(s15)"
   ]
  },
  {
   "cell_type": "code",
   "execution_count": 14,
   "id": "746b067c-615a-4160-8a4c-8669b43fe4cb",
   "metadata": {},
   "outputs": [
    {
     "data": {
      "text/plain": [
       "1"
      ]
     },
     "execution_count": 14,
     "metadata": {},
     "output_type": "execute_result"
    }
   ],
   "source": [
    "min(s15)"
   ]
  },
  {
   "cell_type": "markdown",
   "id": "52a49d61-6cae-498d-a095-b1b7cc8f05ac",
   "metadata": {},
   "source": [
    "# set is completed"
   ]
  },
  {
   "cell_type": "markdown",
   "id": "f7c0b8e5-b52c-4e92-b092-734484e3cd31",
   "metadata": {},
   "source": [
    "# dictionary "
   ]
  },
  {
   "cell_type": "code",
   "execution_count": 17,
   "id": "f4a4b71a-db67-4267-9eb2-3f47beda9f0c",
   "metadata": {},
   "outputs": [
    {
     "data": {
      "text/plain": [
       "{}"
      ]
     },
     "execution_count": 17,
     "metadata": {},
     "output_type": "execute_result"
    }
   ],
   "source": [
    "d = {}\n",
    "d"
   ]
  },
  {
   "cell_type": "code",
   "execution_count": 18,
   "id": "f5666cbe-e32c-495b-8c08-cf7d826a579d",
   "metadata": {},
   "outputs": [
    {
     "data": {
      "text/plain": [
       "dict"
      ]
     },
     "execution_count": 18,
     "metadata": {},
     "output_type": "execute_result"
    }
   ],
   "source": [
    "type(d)"
   ]
  },
  {
   "cell_type": "code",
   "execution_count": 20,
   "id": "4e585ba0-d1e3-43f8-a13c-8317ebc85e67",
   "metadata": {},
   "outputs": [
    {
     "data": {
      "text/plain": [
       "{1: 'one', 2: 'two', 3: 'three'}"
      ]
     },
     "execution_count": 20,
     "metadata": {},
     "output_type": "execute_result"
    }
   ],
   "source": [
    "d1 = {1 : 'one', 2 : 'two', 3: 'three'}\n",
    "d1"
   ]
  },
  {
   "cell_type": "code",
   "execution_count": 22,
   "id": "8b5517e5-f2ce-4a97-b611-1043670f44bc",
   "metadata": {},
   "outputs": [
    {
     "data": {
      "text/plain": [
       "dict_keys([1, 2, 3])"
      ]
     },
     "execution_count": 22,
     "metadata": {},
     "output_type": "execute_result"
    }
   ],
   "source": [
    "d1.keys()"
   ]
  },
  {
   "cell_type": "code",
   "execution_count": 23,
   "id": "62bc54fe-4fb5-488b-a94d-8b1d1d006181",
   "metadata": {},
   "outputs": [
    {
     "data": {
      "text/plain": [
       "dict_values(['one', 'two', 'three'])"
      ]
     },
     "execution_count": 23,
     "metadata": {},
     "output_type": "execute_result"
    }
   ],
   "source": [
    "d1.values()"
   ]
  },
  {
   "cell_type": "code",
   "execution_count": 24,
   "id": "802f83d3-7d11-468e-8982-9eeeaa418f82",
   "metadata": {},
   "outputs": [
    {
     "data": {
      "text/plain": [
       "{1: 'one', 2: 'two', 3: 'three'}"
      ]
     },
     "execution_count": 24,
     "metadata": {},
     "output_type": "execute_result"
    }
   ],
   "source": [
    "d2 = d1.copy()\n",
    "d2"
   ]
  },
  {
   "cell_type": "code",
   "execution_count": 25,
   "id": "da2b5020-c1c1-4300-89ce-488ccf2beb30",
   "metadata": {},
   "outputs": [
    {
     "data": {
      "text/plain": [
       "dict_items([(1, 'one'), (2, 'two'), (3, 'three')])"
      ]
     },
     "execution_count": 25,
     "metadata": {},
     "output_type": "execute_result"
    }
   ],
   "source": [
    "d1.items()"
   ]
  },
  {
   "cell_type": "code",
   "execution_count": 26,
   "id": "a1547274-7487-4fb7-b1b9-1fcd170c9ba1",
   "metadata": {},
   "outputs": [
    {
     "data": {
      "text/plain": [
       "'one'"
      ]
     },
     "execution_count": 26,
     "metadata": {},
     "output_type": "execute_result"
    }
   ],
   "source": [
    "d1[1]"
   ]
  },
  {
   "cell_type": "code",
   "execution_count": 29,
   "id": "4b3249ad-8908-46dc-b2c6-4d9e4713086c",
   "metadata": {},
   "outputs": [
    {
     "data": {
      "text/plain": [
       "{'c': [10, 20, 30], 'd': [10, 20, 30], 'ram': [10, 20, 30], 'b': [10, 20, 30]}"
      ]
     },
     "execution_count": 29,
     "metadata": {},
     "output_type": "execute_result"
    }
   ],
   "source": [
    "keys = {'ram' , 'b' , 'c' , 'd'}\n",
    "value = [10,20,30]\n",
    "mydict3 = dict.fromkeys(keys , value) # Create a dictionary from a sequence of\n",
    "mydict3"
   ]
  },
  {
   "cell_type": "code",
   "execution_count": 30,
   "id": "8d83befc-2568-4765-84f4-463bc15f20b1",
   "metadata": {},
   "outputs": [
    {
     "data": {
      "text/plain": [
       "{'c': [10, 20, 30, 50],\n",
       " 'd': [10, 20, 30, 50],\n",
       " 'ram': [10, 20, 30, 50],\n",
       " 'b': [10, 20, 30, 50]}"
      ]
     },
     "execution_count": 30,
     "metadata": {},
     "output_type": "execute_result"
    }
   ],
   "source": [
    "value.append(50)\n",
    "mydict3"
   ]
  },
  {
   "cell_type": "code",
   "execution_count": 31,
   "id": "3d7bbbcb-8b19-4059-8ded-207fd278879d",
   "metadata": {},
   "outputs": [
    {
     "data": {
      "text/plain": [
       "range(0, 10)"
      ]
     },
     "execution_count": 31,
     "metadata": {},
     "output_type": "execute_result"
    }
   ],
   "source": [
    "range(10)"
   ]
  },
  {
   "cell_type": "code",
   "execution_count": 32,
   "id": "3652a387-9a9b-453e-94e7-c671e5c2c368",
   "metadata": {},
   "outputs": [
    {
     "data": {
      "text/plain": [
       "[0, 1, 2, 3, 4, 5, 6, 7, 8, 9]"
      ]
     },
     "execution_count": 32,
     "metadata": {},
     "output_type": "execute_result"
    }
   ],
   "source": [
    "list(range(0,10))"
   ]
  },
  {
   "cell_type": "code",
   "execution_count": 33,
   "id": "04729170-2132-4268-9453-6cce04d7868e",
   "metadata": {},
   "outputs": [
    {
     "data": {
      "text/plain": [
       "[10, 11, 12, 13, 14, 15, 16, 17, 18, 19]"
      ]
     },
     "execution_count": 33,
     "metadata": {},
     "output_type": "execute_result"
    }
   ],
   "source": [
    "list(range(10,20))"
   ]
  },
  {
   "cell_type": "code",
   "execution_count": 34,
   "id": "86391359-1329-421a-ba76-8cc53c597817",
   "metadata": {},
   "outputs": [
    {
     "data": {
      "text/plain": [
       "[10, 13, 16, 19]"
      ]
     },
     "execution_count": 34,
     "metadata": {},
     "output_type": "execute_result"
    }
   ],
   "source": [
    "list(range(10,20,3))"
   ]
  },
  {
   "cell_type": "code",
   "execution_count": 35,
   "id": "6ceeb7f0-e93a-4c19-bf51-cfe4c595d430",
   "metadata": {},
   "outputs": [
    {
     "ename": "TypeError",
     "evalue": "range expected at most 3 arguments, got 4",
     "output_type": "error",
     "traceback": [
      "\u001b[1;31m---------------------------------------------------------------------------\u001b[0m",
      "\u001b[1;31mTypeError\u001b[0m                                 Traceback (most recent call last)",
      "Cell \u001b[1;32mIn[35], line 1\u001b[0m\n\u001b[1;32m----> 1\u001b[0m \u001b[38;5;28mlist\u001b[39m(\u001b[38;5;28mrange\u001b[39m(\u001b[38;5;241m10\u001b[39m,\u001b[38;5;241m20\u001b[39m,\u001b[38;5;241m3\u001b[39m,\u001b[38;5;241m4\u001b[39m))\n",
      "\u001b[1;31mTypeError\u001b[0m: range expected at most 3 arguments, got 4"
     ]
    }
   ],
   "source": [
    "list(range(10,20,3,4))"
   ]
  },
  {
   "cell_type": "code",
   "execution_count": 36,
   "id": "8b0f72a2-d36d-46d7-9b11-6e04c7033d3c",
   "metadata": {},
   "outputs": [
    {
     "data": {
      "text/plain": [
       "range(1, 10)"
      ]
     },
     "execution_count": 36,
     "metadata": {},
     "output_type": "execute_result"
    }
   ],
   "source": [
    "r = range(1,10)\n",
    "r"
   ]
  },
  {
   "cell_type": "code",
   "execution_count": 37,
   "id": "052e01de-597b-4278-9a91-8d032d5f6dad",
   "metadata": {},
   "outputs": [
    {
     "name": "stdout",
     "output_type": "stream",
     "text": [
      "1\n",
      "2\n",
      "3\n",
      "4\n",
      "5\n",
      "6\n",
      "7\n",
      "8\n",
      "9\n"
     ]
    }
   ],
   "source": [
    "for i in r:\n",
    "    print(i)"
   ]
  },
  {
   "cell_type": "markdown",
   "id": "ecc27a2b-beea-49b4-a372-76e77013320d",
   "metadata": {},
   "source": [
    "- python operator\n",
    "- python variable\n",
    "- python data types\n",
    "- type casting or type conversion\n",
    "- pyton inbuild datastructure "
   ]
  },
  {
   "cell_type": "code",
   "execution_count": 45,
   "id": "20b23ed3-dbf5-485a-b163-902806308a2b",
   "metadata": {},
   "outputs": [
    {
     "name": "stdout",
     "output_type": "stream",
     "text": [
      "[1, 2, 3, 4]\n",
      "[1, 2, 3, 4]\n",
      "[3, 4]\n"
     ]
    }
   ],
   "source": [
    "x = [1, 2, 3]\n",
    "y = x\n",
    "z1 = z\n",
    "z1 = [3,4]\n",
    "y.append(4)\n",
    "print(x)\n",
    "print(y)\n",
    "print(z1)"
   ]
  },
  {
   "cell_type": "code",
   "execution_count": 46,
   "id": "392839ac-c59f-47af-a9cc-5a498db44c16",
   "metadata": {},
   "outputs": [
    {
     "name": "stdout",
     "output_type": "stream",
     "text": [
      "True\n"
     ]
    }
   ],
   "source": [
    "x = \"Hello\"\n",
    "y = 'Hello'\n",
    "print(x == y)\n"
   ]
  },
  {
   "cell_type": "code",
   "execution_count": 48,
   "id": "6887f581-bc44-47cb-8cf8-141fd9e32181",
   "metadata": {},
   "outputs": [
    {
     "data": {
      "text/plain": [
       "78"
      ]
     },
     "execution_count": 48,
     "metadata": {},
     "output_type": "execute_result"
    }
   ],
   "source": [
    "var_name = 78\n",
    "var_name"
   ]
  },
  {
   "cell_type": "code",
   "execution_count": 49,
   "id": "4df3d50a-8906-41b5-beb8-5c26a2170c1f",
   "metadata": {},
   "outputs": [
    {
     "data": {
      "text/plain": [
       "25"
      ]
     },
     "execution_count": 49,
     "metadata": {},
     "output_type": "execute_result"
    }
   ],
   "source": [
    "_var = 25\n",
    "_var "
   ]
  },
  {
   "cell_type": "code",
   "execution_count": 50,
   "id": "1506dd91-8478-4ce0-87e4-047122bde853",
   "metadata": {},
   "outputs": [
    {
     "data": {
      "text/plain": [
       "3.14"
      ]
     },
     "execution_count": 50,
     "metadata": {},
     "output_type": "execute_result"
    }
   ],
   "source": [
    "PI = 3.14 \n",
    "PI"
   ]
  },
  {
   "cell_type": "code",
   "execution_count": 52,
   "id": "d4993c17-0e09-464e-b207-017c131180f8",
   "metadata": {},
   "outputs": [
    {
     "data": {
      "text/plain": [
       "3.15"
      ]
     },
     "execution_count": 52,
     "metadata": {},
     "output_type": "execute_result"
    }
   ],
   "source": [
    "PI = 3.15\n",
    "PI"
   ]
  },
  {
   "cell_type": "code",
   "execution_count": 53,
   "id": "1fd6600a-bacf-49a4-9ba6-c892f68f6205",
   "metadata": {},
   "outputs": [],
   "source": [
    "x : int = 10"
   ]
  },
  {
   "cell_type": "code",
   "execution_count": 55,
   "id": "e524a946-ab52-4ecf-969d-16d6e88934d1",
   "metadata": {},
   "outputs": [
    {
     "data": {
      "text/plain": [
       "10"
      ]
     },
     "execution_count": 55,
     "metadata": {},
     "output_type": "execute_result"
    }
   ],
   "source": [
    "x"
   ]
  },
  {
   "cell_type": "markdown",
   "id": "edadc61f-9c0a-4050-8739-4c453f974ffc",
   "metadata": {},
   "source": [
    "# ADVANCED PYTHON "
   ]
  },
  {
   "cell_type": "code",
   "execution_count": 1,
   "id": "8976fbf9-5ed6-4311-8655-1ace8e709ecc",
   "metadata": {},
   "outputs": [
    {
     "name": "stdout",
     "output_type": "stream",
     "text": [
      "Data Science\n"
     ]
    }
   ],
   "source": [
    "if True: # indentiation is always 4 spaces\n",
    "    print('Data Science') "
   ]
  },
  {
   "cell_type": "code",
   "execution_count": 2,
   "id": "fd81ed0d-67a7-4791-acd8-cf50e3079c3d",
   "metadata": {},
   "outputs": [
    {
     "name": "stdout",
     "output_type": "stream",
     "text": [
      "Data Science\n",
      "need to spend everyday 3-4hr\n"
     ]
    }
   ],
   "source": [
    "if True: # indentiation is always 4 spaces\n",
    "    print('Data Science') \n",
    "    print('need to spend everyday 3-4hr')"
   ]
  },
  {
   "cell_type": "code",
   "execution_count": 3,
   "id": "36c7a8be-fcf9-43a3-8969-ab576b399aa2",
   "metadata": {},
   "outputs": [
    {
     "name": "stdout",
     "output_type": "stream",
     "text": [
      "good bye\n"
     ]
    }
   ],
   "source": [
    "if False: # indentiation is always 4 spaces\n",
    "    print('Data Science') \n",
    "    \n",
    "print('good bye')"
   ]
  },
  {
   "cell_type": "code",
   "execution_count": 4,
   "id": "7bc5e795-d3d5-4662-b9cd-935cfbfee99b",
   "metadata": {},
   "outputs": [
    {
     "name": "stdout",
     "output_type": "stream",
     "text": [
      "Data Science\n",
      "good bye\n"
     ]
    }
   ],
   "source": [
    "if True: # indentiation is always 4 spaces\n",
    "    print('Data Science') \n",
    "  \n",
    "print('good bye')"
   ]
  },
  {
   "cell_type": "code",
   "execution_count": 5,
   "id": "43cb037b-945f-467e-8c36-423343e8e4f1",
   "metadata": {},
   "outputs": [
    {
     "name": "stdout",
     "output_type": "stream",
     "text": [
      "Data Science\n"
     ]
    }
   ],
   "source": [
    "if True: # indentiation is always 4 spaces\n",
    "    print('Data Science')\n",
    "else:\n",
    "    print('good bye')"
   ]
  },
  {
   "cell_type": "code",
   "execution_count": 6,
   "id": "fa239968-a017-4e7f-b3d1-ea608d0d200f",
   "metadata": {},
   "outputs": [
    {
     "name": "stdout",
     "output_type": "stream",
     "text": [
      "good bye\n"
     ]
    }
   ],
   "source": [
    "if False: # indentiation is always 4 spaces\n",
    "    print('Data Science')\n",
    "else:\n",
    "    print('good bye')"
   ]
  },
  {
   "cell_type": "markdown",
   "id": "0a73e408-6db3-4ec2-8f15-43e24821e73a",
   "metadata": {},
   "source": [
    "# I want to print only even number"
   ]
  },
  {
   "cell_type": "code",
   "execution_count": 7,
   "id": "bfa5c86d-5131-4e61-abe0-c2430368b531",
   "metadata": {},
   "outputs": [
    {
     "name": "stdout",
     "output_type": "stream",
     "text": [
      "Even number\n"
     ]
    }
   ],
   "source": [
    "x = 4\n",
    "r = x % 2 \n",
    "\n",
    "if r == 0:\n",
    "    print('Even number')"
   ]
  },
  {
   "cell_type": "code",
   "execution_count": 8,
   "id": "42483a80-1c84-4e18-8ad5-a7871c4c0964",
   "metadata": {},
   "outputs": [],
   "source": [
    "x = 5\n",
    "r = x % 2 \n",
    "\n",
    "if r == 0:\n",
    "    print('Even number')"
   ]
  },
  {
   "cell_type": "code",
   "execution_count": 11,
   "id": "6bbac1f6-45cd-4389-acf1-99d92457be22",
   "metadata": {},
   "outputs": [
    {
     "name": "stdout",
     "output_type": "stream",
     "text": [
      "odd number\n"
     ]
    }
   ],
   "source": [
    "x = 9\n",
    "r = x % 2 \n",
    "\n",
    "if r == 0:\n",
    "    print('Even number')\n",
    "    \n",
    "if r == 1:\n",
    "    print('odd number')"
   ]
  },
  {
   "cell_type": "code",
   "execution_count": 13,
   "id": "260a2d7b-7046-4a84-888d-5e79e240624d",
   "metadata": {},
   "outputs": [
    {
     "name": "stdout",
     "output_type": "stream",
     "text": [
      "Even number\n"
     ]
    }
   ],
   "source": [
    "x = 8\n",
    "r = x % 2 \n",
    "\n",
    "if r == 0:\n",
    "    print('Even number')\n",
    "else:\n",
    "    print('odd number')"
   ]
  },
  {
   "cell_type": "code",
   "execution_count": 14,
   "id": "b9ecf0d3-9836-42ee-bc1a-41d2f1df54e3",
   "metadata": {},
   "outputs": [
    {
     "name": "stdout",
     "output_type": "stream",
     "text": [
      "odd number\n"
     ]
    }
   ],
   "source": [
    "x = 5\n",
    "r = x % 2 \n",
    "\n",
    "if r == 0:\n",
    "    print('Even number')\n",
    "print('odd number')"
   ]
  },
  {
   "cell_type": "code",
   "execution_count": 15,
   "id": "51fae66f-f8f1-43b9-9016-60c475895dd7",
   "metadata": {},
   "outputs": [
    {
     "name": "stdout",
     "output_type": "stream",
     "text": [
      "Even number\n",
      "odd number\n"
     ]
    }
   ],
   "source": [
    "x = 4\n",
    "r = x % 2 \n",
    "\n",
    "if r == 0:\n",
    "    print('Even number')\n",
    "print('odd number')"
   ]
  },
  {
   "cell_type": "code",
   "execution_count": 16,
   "id": "c9687214-96f1-4cf6-94c0-4fe2351cac85",
   "metadata": {},
   "outputs": [
    {
     "name": "stdout",
     "output_type": "stream",
     "text": [
      "Even number\n"
     ]
    }
   ],
   "source": [
    "x = 4\n",
    "r = x % 2 \n",
    "\n",
    "if r == 0:\n",
    "    print('Even number')\n",
    "else:\n",
    "    print('odd number')"
   ]
  },
  {
   "cell_type": "code",
   "execution_count": 17,
   "id": "5c3f2b08-de2d-49fa-bf21-40104f407b33",
   "metadata": {},
   "outputs": [
    {
     "name": "stdout",
     "output_type": "stream",
     "text": [
      "odd number\n"
     ]
    }
   ],
   "source": [
    "x = 17\n",
    "r = x % 2 \n",
    "\n",
    "if r == 0:\n",
    "    print('Even number')\n",
    "    \n",
    "if r != 0:\n",
    "    print('odd number')"
   ]
  },
  {
   "cell_type": "code",
   "execution_count": 18,
   "id": "aab78d6a-5df1-403e-886e-674b1992413f",
   "metadata": {},
   "outputs": [
    {
     "name": "stdout",
     "output_type": "stream",
     "text": [
      "Odd Number\n"
     ]
    }
   ],
   "source": [
    "x = 3\n",
    "r = x % 2\n",
    "\n",
    "if r == 0:\n",
    "    print('Even number')\n",
    "    if x>5:\n",
    "        print('greater number')\n",
    "        \n",
    "\n",
    "else:\n",
    "    print('Odd Number')"
   ]
  },
  {
   "cell_type": "code",
   "execution_count": 19,
   "id": "15c5e9f8-77b2-43b3-b73b-a59ecf828221",
   "metadata": {},
   "outputs": [
    {
     "name": "stdout",
     "output_type": "stream",
     "text": [
      "Even number\n"
     ]
    }
   ],
   "source": [
    "x = 4\n",
    "r = x % 2\n",
    "\n",
    "if r == 0:\n",
    "    print('Even number')\n",
    "    if x>5:\n",
    "        print('greater number')\n",
    "  \n",
    "else:\n",
    "    print('Odd Number')"
   ]
  },
  {
   "cell_type": "code",
   "execution_count": 20,
   "id": "4723339e-75ff-45ac-838a-e838ebf8df2a",
   "metadata": {},
   "outputs": [
    {
     "name": "stdout",
     "output_type": "stream",
     "text": [
      "Even number\n",
      "greater number\n"
     ]
    }
   ],
   "source": [
    "x = 6\n",
    "r = x % 2\n",
    "\n",
    "if r == 0:\n",
    "    print('Even number')\n",
    "    if x>5:\n",
    "        print('greater number')\n",
    "  \n",
    "else:\n",
    "    print('Odd Number')"
   ]
  },
  {
   "cell_type": "code",
   "execution_count": 21,
   "id": "0421fcb4-c75f-4fb5-8ea7-f7c238b77a9a",
   "metadata": {},
   "outputs": [
    {
     "name": "stdout",
     "output_type": "stream",
     "text": [
      "Even number\n",
      "not greater\n"
     ]
    }
   ],
   "source": [
    "x = 2\n",
    "r = x % 2\n",
    "\n",
    "if r == 0:\n",
    "    print('Even number')\n",
    "    \n",
    "    if x>5:\n",
    "        print('greater number')\n",
    "    else:\n",
    "        print('not greater')\n",
    "  \n",
    "else:\n",
    "    print('Odd Number')"
   ]
  },
  {
   "cell_type": "code",
   "execution_count": 23,
   "id": "1322546b-9bf8-4fe1-be68-aa12983093d8",
   "metadata": {},
   "outputs": [
    {
     "name": "stdin",
     "output_type": "stream",
     "text": [
      "Enter a year:  2024\n"
     ]
    },
    {
     "name": "stdout",
     "output_type": "stream",
     "text": [
      "Leap Year\n"
     ]
    }
   ],
   "source": [
    "year = int(input(\"Enter a year: \"))\n",
    "\n",
    "if (year % 4 == 0 and year % 100 != 0) or (year % 400 == 0):\n",
    " print(\"Leap Year\")\n",
    "else:\n",
    " print(\"Not a Leap Year\") "
   ]
  },
  {
   "cell_type": "code",
   "execution_count": null,
   "id": "3ed42324-df92-4eef-a1fd-8d7b2d809580",
   "metadata": {},
   "outputs": [],
   "source": []
  },
  {
   "cell_type": "code",
   "execution_count": null,
   "id": "356e741b-289b-48e3-aa68-5d6cfb6172d2",
   "metadata": {},
   "outputs": [],
   "source": []
  },
  {
   "cell_type": "code",
   "execution_count": null,
   "id": "893bf065-a8f9-4008-9328-6bb26fbc2aa2",
   "metadata": {},
   "outputs": [],
   "source": []
  }
 ],
 "metadata": {
  "kernelspec": {
   "display_name": "Python 3 (ipykernel)",
   "language": "python",
   "name": "python3"
  },
  "language_info": {
   "codemirror_mode": {
    "name": "ipython",
    "version": 3
   },
   "file_extension": ".py",
   "mimetype": "text/x-python",
   "name": "python",
   "nbconvert_exporter": "python",
   "pygments_lexer": "ipython3",
   "version": "3.11.7"
  }
 },
 "nbformat": 4,
 "nbformat_minor": 5
}
