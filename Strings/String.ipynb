{
 "cells": [
  {
   "cell_type": "markdown",
   "id": "b069940a-10f0-4fc5-bed6-37151a0981d8",
   "metadata": {},
   "source": [
    "String "
   ]
  },
  {
   "cell_type": "code",
   "execution_count": 8,
   "id": "d2240f6d-fa06-48eb-93ad-b3613d61cb10",
   "metadata": {},
   "outputs": [
    {
     "data": {
      "text/plain": [
       "'Mahesh Babu'"
      ]
     },
     "execution_count": 8,
     "metadata": {},
     "output_type": "execute_result"
    }
   ],
   "source": [
    "name = \"Mahesh Babu\"\n",
    "name"
   ]
  },
  {
   "cell_type": "code",
   "execution_count": 2,
   "id": "dc59759f-1354-4b1e-bb3c-8ba82526dcb8",
   "metadata": {},
   "outputs": [
    {
     "data": {
      "text/plain": [
       "11"
      ]
     },
     "execution_count": 2,
     "metadata": {},
     "output_type": "execute_result"
    }
   ],
   "source": [
    "len(name)"
   ]
  },
  {
   "cell_type": "code",
   "execution_count": 3,
   "id": "c51cb3b0-3eb4-4b0b-bd42-409ee87d9656",
   "metadata": {},
   "outputs": [
    {
     "data": {
      "text/plain": [
       "str"
      ]
     },
     "execution_count": 3,
     "metadata": {},
     "output_type": "execute_result"
    }
   ],
   "source": [
    "type(name)"
   ]
  },
  {
   "cell_type": "code",
   "execution_count": 4,
   "id": "26bdaabd-d92b-4b25-b25a-5703fb489725",
   "metadata": {},
   "outputs": [
    {
     "data": {
      "text/plain": [
       "'Mahesh'"
      ]
     },
     "execution_count": 4,
     "metadata": {},
     "output_type": "execute_result"
    }
   ],
   "source": [
    "name[0:6]"
   ]
  },
  {
   "cell_type": "code",
   "execution_count": 7,
   "id": "96c5c7fb-f88d-442f-87f5-622d1ddf2484",
   "metadata": {},
   "outputs": [
    {
     "name": "stdout",
     "output_type": "stream",
     "text": [
      "My name is Mahesh Babu and Currently i have enrolled to FSDS with AI\n"
     ]
    }
   ],
   "source": [
    "name1 = \"My name is Mahesh Babu\"\n",
    "name2 = \" Currently i have enrolled to FSDS with AI\"\n",
    "name3 = \" and\"\n",
    "print(name1+name3+name2)"
   ]
  },
  {
   "cell_type": "code",
   "execution_count": 10,
   "id": "8dbba414-a872-4191-a834-524367ec1fec",
   "metadata": {},
   "outputs": [
    {
     "data": {
      "text/plain": [
       "68"
      ]
     },
     "execution_count": 10,
     "metadata": {},
     "output_type": "execute_result"
    }
   ],
   "source": [
    "len(name1+name2+name3)"
   ]
  },
  {
   "cell_type": "code",
   "execution_count": 11,
   "id": "df7c028d-926f-4abb-b5ed-d90883cf980c",
   "metadata": {},
   "outputs": [
    {
     "data": {
      "text/plain": [
       "str"
      ]
     },
     "execution_count": 11,
     "metadata": {},
     "output_type": "execute_result"
    }
   ],
   "source": [
    "type(name1+name2+name3)"
   ]
  },
  {
   "cell_type": "code",
   "execution_count": 12,
   "id": "31ff541b-1579-47d4-ace6-59eec00cc061",
   "metadata": {},
   "outputs": [
    {
     "data": {
      "text/plain": [
       "42"
      ]
     },
     "execution_count": 12,
     "metadata": {},
     "output_type": "execute_result"
    }
   ],
   "source": [
    "len(name2)"
   ]
  },
  {
   "cell_type": "code",
   "execution_count": 13,
   "id": "17272f56-bfee-477d-89c7-941d3d347f09",
   "metadata": {},
   "outputs": [
    {
     "data": {
      "text/plain": [
       "'Mahesh'"
      ]
     },
     "execution_count": 13,
     "metadata": {},
     "output_type": "execute_result"
    }
   ],
   "source": [
    "Name = \"Mahesh\"\n",
    "Name"
   ]
  },
  {
   "cell_type": "code",
   "execution_count": 14,
   "id": "f6b8cc11-3762-49c9-9e78-d70e9a3d22fa",
   "metadata": {},
   "outputs": [
    {
     "data": {
      "text/plain": [
       "6"
      ]
     },
     "execution_count": 14,
     "metadata": {},
     "output_type": "execute_result"
    }
   ],
   "source": [
    "len(Name)"
   ]
  },
  {
   "cell_type": "code",
   "execution_count": 15,
   "id": "634f154f-ba6b-4b0b-bb38-08105e4fb37c",
   "metadata": {},
   "outputs": [],
   "source": [
    "a,b,c,d,e,f = Name"
   ]
  },
  {
   "cell_type": "code",
   "execution_count": 17,
   "id": "e32bdc5f-0099-419b-a018-368c948e7cd5",
   "metadata": {},
   "outputs": [
    {
     "name": "stdout",
     "output_type": "stream",
     "text": [
      "M\n",
      "a\n",
      "h\n",
      "e\n",
      "s\n",
      "h\n"
     ]
    }
   ],
   "source": [
    "print(a)\n",
    "print(b)\n",
    "print(c)\n",
    "print(d)\n",
    "print(e)\n",
    "print(f)"
   ]
  },
  {
   "cell_type": "code",
   "execution_count": 18,
   "id": "303df425-8d50-4032-84fa-1a14bcc4d5bd",
   "metadata": {},
   "outputs": [
    {
     "name": "stdout",
     "output_type": "stream",
     "text": [
      "B\n",
      "a\n",
      "b\n",
      "u\n"
     ]
    }
   ],
   "source": [
    "a,b,c,d = \"Babu\"\n",
    "print(a)\n",
    "print(b)\n",
    "print(c)\n",
    "print(d)"
   ]
  },
  {
   "cell_type": "code",
   "execution_count": 20,
   "id": "929d6d2e-e74a-40a9-9b90-4eeb753e6664",
   "metadata": {},
   "outputs": [
    {
     "data": {
      "text/plain": [
       "'Mahesh'"
      ]
     },
     "execution_count": 20,
     "metadata": {},
     "output_type": "execute_result"
    }
   ],
   "source": [
    "name = \"Mahesh\"\n",
    "name"
   ]
  },
  {
   "cell_type": "code",
   "execution_count": 21,
   "id": "dbff4ac6-11fe-4b25-b4f7-36f9d51fe5c8",
   "metadata": {},
   "outputs": [
    {
     "data": {
      "text/plain": [
       "'s'"
      ]
     },
     "execution_count": 21,
     "metadata": {},
     "output_type": "execute_result"
    }
   ],
   "source": [
    "name[4]"
   ]
  },
  {
   "cell_type": "code",
   "execution_count": 30,
   "id": "46998e8d-104d-4813-aa82-4ea10df325f2",
   "metadata": {},
   "outputs": [
    {
     "data": {
      "text/plain": [
       "'h'"
      ]
     },
     "execution_count": 30,
     "metadata": {},
     "output_type": "execute_result"
    }
   ],
   "source": [
    "name[-1]"
   ]
  },
  {
   "cell_type": "code",
   "execution_count": 23,
   "id": "494aea14-1d05-4dca-aef4-e1413c593b3f",
   "metadata": {},
   "outputs": [
    {
     "data": {
      "text/plain": [
       "'h'"
      ]
     },
     "execution_count": 23,
     "metadata": {},
     "output_type": "execute_result"
    }
   ],
   "source": [
    "name[2]"
   ]
  },
  {
   "cell_type": "code",
   "execution_count": 24,
   "id": "934a7d2b-8283-4bfc-aab9-d61eaf66d821",
   "metadata": {},
   "outputs": [
    {
     "data": {
      "text/plain": [
       "'Mahesh'"
      ]
     },
     "execution_count": 24,
     "metadata": {},
     "output_type": "execute_result"
    }
   ],
   "source": [
    "name"
   ]
  },
  {
   "cell_type": "code",
   "execution_count": 29,
   "id": "34bed2fe-4611-4525-a04c-316a8a199175",
   "metadata": {},
   "outputs": [
    {
     "data": {
      "text/plain": [
       "'esh'"
      ]
     },
     "execution_count": 29,
     "metadata": {},
     "output_type": "execute_result"
    }
   ],
   "source": [
    "name[3:6]"
   ]
  },
  {
   "cell_type": "code",
   "execution_count": 31,
   "id": "7712a07b-a58c-426a-af86-b77321226c0a",
   "metadata": {},
   "outputs": [
    {
     "data": {
      "text/plain": [
       "'Mahesh'"
      ]
     },
     "execution_count": 31,
     "metadata": {},
     "output_type": "execute_result"
    }
   ],
   "source": [
    "name[:]"
   ]
  },
  {
   "cell_type": "code",
   "execution_count": 32,
   "id": "c6da9c67-6e2b-43c9-8b64-78f869ead344",
   "metadata": {},
   "outputs": [
    {
     "data": {
      "text/plain": [
       "'Mahes'"
      ]
     },
     "execution_count": 32,
     "metadata": {},
     "output_type": "execute_result"
    }
   ],
   "source": [
    "name[:-1]"
   ]
  },
  {
   "cell_type": "code",
   "execution_count": 33,
   "id": "83b41f7d-90a0-4bb4-9fbc-d122e3b88698",
   "metadata": {},
   "outputs": [
    {
     "data": {
      "text/plain": [
       "'Mhs'"
      ]
     },
     "execution_count": 33,
     "metadata": {},
     "output_type": "execute_result"
    }
   ],
   "source": [
    "name[0:6:2]"
   ]
  },
  {
   "cell_type": "code",
   "execution_count": 34,
   "id": "998a5bef-3478-4900-b9e7-5a533f75805b",
   "metadata": {},
   "outputs": [
    {
     "data": {
      "text/plain": [
       "'ahehesh'"
      ]
     },
     "execution_count": 34,
     "metadata": {},
     "output_type": "execute_result"
    }
   ],
   "source": [
    "name[1:4]+name[2:6]"
   ]
  },
  {
   "cell_type": "code",
   "execution_count": 39,
   "id": "f7ca6e3f-255f-4914-ad3e-eddebdf401a1",
   "metadata": {},
   "outputs": [
    {
     "name": "stdout",
     "output_type": "stream",
     "text": [
      "Mahesh\n",
      "Babu\n"
     ]
    }
   ],
   "source": [
    "print(\"Mahesh\\nBabu\")"
   ]
  },
  {
   "cell_type": "code",
   "execution_count": 40,
   "id": "9f394eeb-a840-4d92-8de7-c1ec0aee4803",
   "metadata": {},
   "outputs": [
    {
     "name": "stdout",
     "output_type": "stream",
     "text": [
      "Mahesh\tBabu\n"
     ]
    }
   ],
   "source": [
    "print(\"Mahesh\\tBabu\")"
   ]
  },
  {
   "cell_type": "code",
   "execution_count": 41,
   "id": "b1fff380-da40-424f-ac05-037438957fd6",
   "metadata": {},
   "outputs": [
    {
     "data": {
      "text/plain": [
       "'my name is Mahesh Babu'"
      ]
     },
     "execution_count": 41,
     "metadata": {},
     "output_type": "execute_result"
    }
   ],
   "source": [
    "name1 = (\"my name is Mahesh Babu\")\n",
    "name1"
   ]
  },
  {
   "cell_type": "code",
   "execution_count": 42,
   "id": "21c954a1-ec75-41d5-b3c6-79a9bde2a99c",
   "metadata": {},
   "outputs": [
    {
     "data": {
      "text/plain": [
       "'My name is mahesh babu'"
      ]
     },
     "execution_count": 42,
     "metadata": {},
     "output_type": "execute_result"
    }
   ],
   "source": [
    "name1.capitalize()"
   ]
  }
 ],
 "metadata": {
  "kernelspec": {
   "display_name": "Python 3 (ipykernel)",
   "language": "python",
   "name": "python3"
  },
  "language_info": {
   "codemirror_mode": {
    "name": "ipython",
    "version": 3
   },
   "file_extension": ".py",
   "mimetype": "text/x-python",
   "name": "python",
   "nbconvert_exporter": "python",
   "pygments_lexer": "ipython3",
   "version": "3.12.7"
  }
 },
 "nbformat": 4,
 "nbformat_minor": 5
}
