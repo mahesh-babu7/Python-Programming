{
 "cells": [
  {
   "cell_type": "code",
   "execution_count": null,
   "id": "ecde7727-5052-4d2e-b7ff-8a74b6b9c80f",
   "metadata": {},
   "outputs": [],
   "source": [
    "#synatx --> keys:value"
   ]
  },
  {
   "cell_type": "code",
   "execution_count": 1,
   "id": "6a205bfc-1916-44c4-a257-9616ffd25d8f",
   "metadata": {},
   "outputs": [
    {
     "data": {
      "text/plain": [
       "{}"
      ]
     },
     "execution_count": 1,
     "metadata": {},
     "output_type": "execute_result"
    }
   ],
   "source": [
    "d = {}\n",
    "d"
   ]
  },
  {
   "cell_type": "code",
   "execution_count": 2,
   "id": "a6ade661-2d5f-4dcd-a0d0-926f64922924",
   "metadata": {},
   "outputs": [
    {
     "data": {
      "text/plain": [
       "dict"
      ]
     },
     "execution_count": 2,
     "metadata": {},
     "output_type": "execute_result"
    }
   ],
   "source": [
    "type(d)"
   ]
  },
  {
   "cell_type": "code",
   "execution_count": 3,
   "id": "c4975ae7-5649-4e1d-8383-5fad9ccb6502",
   "metadata": {},
   "outputs": [
    {
     "data": {
      "text/plain": [
       "{1: 'one', 2: 'two', 3: 'three'}"
      ]
     },
     "execution_count": 3,
     "metadata": {},
     "output_type": "execute_result"
    }
   ],
   "source": [
    "d1 = {1: 'one', 2:'two', 3:'three'}\n",
    "d1"
   ]
  },
  {
   "cell_type": "code",
   "execution_count": 4,
   "id": "9b1d829c-2829-40fc-9924-256a636b5690",
   "metadata": {},
   "outputs": [
    {
     "data": {
      "text/plain": [
       "dict_keys([1, 2, 3])"
      ]
     },
     "execution_count": 4,
     "metadata": {},
     "output_type": "execute_result"
    }
   ],
   "source": [
    "d1.keys()"
   ]
  },
  {
   "cell_type": "code",
   "execution_count": 5,
   "id": "cea2f9f9-2f9b-429a-be21-cb9ae8d9cecf",
   "metadata": {},
   "outputs": [
    {
     "data": {
      "text/plain": [
       "dict_values(['one', 'two', 'three'])"
      ]
     },
     "execution_count": 5,
     "metadata": {},
     "output_type": "execute_result"
    }
   ],
   "source": [
    "d1.values()"
   ]
  },
  {
   "cell_type": "code",
   "execution_count": 4,
   "id": "65b04fcc-bdd6-4839-9f63-280dbbdf2f35",
   "metadata": {},
   "outputs": [
    {
     "data": {
      "text/plain": [
       "{1: 'one', 2: 'two', 3: 'three'}"
      ]
     },
     "execution_count": 4,
     "metadata": {},
     "output_type": "execute_result"
    }
   ],
   "source": [
    "d2 = d1.copy()\n",
    "d2"
   ]
  },
  {
   "cell_type": "code",
   "execution_count": 7,
   "id": "d27da95f-8bc9-41c1-936f-342fdbc0e4f4",
   "metadata": {},
   "outputs": [
    {
     "data": {
      "text/plain": [
       "dict_items([(1, 'one'), (2, 'two'), (3, 'three')])"
      ]
     },
     "execution_count": 7,
     "metadata": {},
     "output_type": "execute_result"
    }
   ],
   "source": [
    "d1.items()"
   ]
  },
  {
   "cell_type": "code",
   "execution_count": 8,
   "id": "66f179a5-5164-436b-9e02-9a8e5f64ba7d",
   "metadata": {},
   "outputs": [
    {
     "data": {
      "text/plain": [
       "'two'"
      ]
     },
     "execution_count": 8,
     "metadata": {},
     "output_type": "execute_result"
    }
   ],
   "source": [
    "d1[2]"
   ]
  },
  {
   "cell_type": "code",
   "execution_count": 5,
   "id": "300a2f27-24eb-4836-8d1c-eb193122eace",
   "metadata": {},
   "outputs": [
    {
     "data": {
      "text/plain": [
       "{1: 'one', 2: 'two', 3: 'three'}"
      ]
     },
     "execution_count": 5,
     "metadata": {},
     "output_type": "execute_result"
    }
   ],
   "source": [
    "d2"
   ]
  },
  {
   "cell_type": "code",
   "execution_count": 7,
   "id": "70539f04-5dc8-4fa9-b16e-57ee5083cc73",
   "metadata": {},
   "outputs": [
    {
     "data": {
      "text/plain": [
       "'two'"
      ]
     },
     "execution_count": 7,
     "metadata": {},
     "output_type": "execute_result"
    }
   ],
   "source": [
    "d2[2]"
   ]
  },
  {
   "cell_type": "code",
   "execution_count": 8,
   "id": "e26f9b0e-d951-4f2b-a8cb-2a3ac7404532",
   "metadata": {},
   "outputs": [],
   "source": [
    "d3 = {'Name':'Mahesh', 'Id':123, 'DOB': 2002, 'Address':'Maski'}"
   ]
  },
  {
   "cell_type": "code",
   "execution_count": 9,
   "id": "a0e900f3-1b6b-4e78-965e-ffec2771f8c4",
   "metadata": {},
   "outputs": [
    {
     "data": {
      "text/plain": [
       "{'Name': 'Mahesh', 'Id': 123, 'DOB': 2002, 'Address': 'Maski'}"
      ]
     },
     "execution_count": 9,
     "metadata": {},
     "output_type": "execute_result"
    }
   ],
   "source": [
    "d3"
   ]
  },
  {
   "cell_type": "code",
   "execution_count": 10,
   "id": "448df41b-f7f0-4f43-84b5-983733e04b53",
   "metadata": {},
   "outputs": [],
   "source": [
    "d3['DOB'] = 2001"
   ]
  },
  {
   "cell_type": "code",
   "execution_count": 11,
   "id": "fa89d5c4-7031-4632-a6d6-7d8a2b1d5ae4",
   "metadata": {},
   "outputs": [
    {
     "data": {
      "text/plain": [
       "{'Name': 'Mahesh', 'Id': 123, 'DOB': 2001, 'Address': 'Maski'}"
      ]
     },
     "execution_count": 11,
     "metadata": {},
     "output_type": "execute_result"
    }
   ],
   "source": [
    "d3"
   ]
  },
  {
   "cell_type": "code",
   "execution_count": 12,
   "id": "fca025a1-9440-456d-b31a-d6c8a384ac05",
   "metadata": {},
   "outputs": [
    {
     "data": {
      "text/plain": [
       "{'Name': 'Mahesh', 'Id': 123, 'DOB': 2001, 'Address': 'Raichur'}"
      ]
     },
     "execution_count": 12,
     "metadata": {},
     "output_type": "execute_result"
    }
   ],
   "source": [
    "d3['Address'] = 'Raichur' # changing the items\n",
    "d3"
   ]
  },
  {
   "cell_type": "code",
   "execution_count": 13,
   "id": "9f28b883-860c-4529-ad62-8d9d4da9f8b3",
   "metadata": {},
   "outputs": [
    {
     "data": {
      "text/plain": [
       "{'Name': 'Mahesh', 'Id': 123, 'DOB': 2001, 'Address': 'Raichur', 'job': 'Data'}"
      ]
     },
     "execution_count": 13,
     "metadata": {},
     "output_type": "execute_result"
    }
   ],
   "source": [
    "d3['job'] = 'Data' # adding items in dict\n",
    "d3"
   ]
  },
  {
   "cell_type": "code",
   "execution_count": 14,
   "id": "eb6cb768-9f22-4855-8ea5-e54e5151dcb8",
   "metadata": {},
   "outputs": [
    {
     "data": {
      "text/plain": [
       "{'Name': 'Mahesh', 'Id': 123, 'DOB': 2001, 'Address': 'Raichur'}"
      ]
     },
     "execution_count": 14,
     "metadata": {},
     "output_type": "execute_result"
    }
   ],
   "source": [
    "d3.pop('job') # removing items in dict\n",
    "d3"
   ]
  },
  {
   "cell_type": "code",
   "execution_count": 16,
   "id": "361a7228-dabe-4d1e-9542-8540336b37b4",
   "metadata": {},
   "outputs": [
    {
     "data": {
      "text/plain": [
       "{'Name': 'Mahesh', 'Id': 123, 'DOB': 2001}"
      ]
     },
     "execution_count": 16,
     "metadata": {},
     "output_type": "execute_result"
    }
   ],
   "source": [
    "d3.popitem() # A random item is removed\n",
    "d3"
   ]
  },
  {
   "cell_type": "code",
   "execution_count": 17,
   "id": "f07ff0b1-62fe-4a3d-a87b-83121c4cc7d2",
   "metadata": {},
   "outputs": [
    {
     "data": {
      "text/plain": [
       "{'Name': 'Mahesh', 'Id': 123, 'DOB': 2001}"
      ]
     },
     "execution_count": 17,
     "metadata": {},
     "output_type": "execute_result"
    }
   ],
   "source": [
    "d3"
   ]
  },
  {
   "cell_type": "code",
   "execution_count": 18,
   "id": "41333f1f-a7ae-440f-8fe5-fd401f40bacb",
   "metadata": {},
   "outputs": [],
   "source": [
    "del[d3['Id']] # removing item using del method"
   ]
  },
  {
   "cell_type": "code",
   "execution_count": 19,
   "id": "8f5e4f9e-06ae-4707-bc63-db89d3ac7cd0",
   "metadata": {},
   "outputs": [
    {
     "data": {
      "text/plain": [
       "{'Name': 'Mahesh', 'DOB': 2001}"
      ]
     },
     "execution_count": 19,
     "metadata": {},
     "output_type": "execute_result"
    }
   ],
   "source": [
    "d3"
   ]
  },
  {
   "cell_type": "code",
   "execution_count": 20,
   "id": "91883ec0-bf10-43f5-83a2-a7bc1d7df664",
   "metadata": {},
   "outputs": [],
   "source": [
    "d3.clear()"
   ]
  },
  {
   "cell_type": "code",
   "execution_count": 21,
   "id": "fd38feb5-d0d5-4f7a-8a6c-2fa5bb1222df",
   "metadata": {},
   "outputs": [
    {
     "data": {
      "text/plain": [
       "{}"
      ]
     },
     "execution_count": 21,
     "metadata": {},
     "output_type": "execute_result"
    }
   ],
   "source": [
    "d3"
   ]
  },
  {
   "cell_type": "code",
   "execution_count": 22,
   "id": "39958be1-a91c-44b0-9e67-d8efcf493aa5",
   "metadata": {},
   "outputs": [],
   "source": [
    "del d3"
   ]
  }
 ],
 "metadata": {
  "kernelspec": {
   "display_name": "Python 3 (ipykernel)",
   "language": "python",
   "name": "python3"
  },
  "language_info": {
   "codemirror_mode": {
    "name": "ipython",
    "version": 3
   },
   "file_extension": ".py",
   "mimetype": "text/x-python",
   "name": "python",
   "nbconvert_exporter": "python",
   "pygments_lexer": "ipython3",
   "version": "3.12.7"
  }
 },
 "nbformat": 4,
 "nbformat_minor": 5
}
